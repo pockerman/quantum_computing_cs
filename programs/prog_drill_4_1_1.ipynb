{
 "cells": [
  {
   "cell_type": "markdown",
   "metadata": {},
   "source": [
    "# Programming Drill 4.1.1"
   ]
  },
  {
   "cell_type": "markdown",
   "metadata": {},
   "source": [
    "Write a program that simulates the first quantum system described in this section. The user should be able to specify how many points the particle can occupy (warning: keep the max number low, or you will fairly quickly run out of memory). The user will also specify a ket state vector by assigning its amplitudes.\n",
    "The program, when asked the likelihood of finding the particle at a given point, will\n",
    "perform the calculations described in Example 4.1.1. If the user enters two kets, the\n",
    "system will calculate the probability of transitioning from the first ket to the second,\n",
    "after an observation has been made."
   ]
  },
  {
   "cell_type": "code",
   "execution_count": 1,
   "metadata": {},
   "outputs": [],
   "source": [
    "import numpy as np\n",
    "from numpy import linalg as LA"
   ]
  },
  {
   "cell_type": "code",
   "execution_count": 14,
   "metadata": {},
   "outputs": [],
   "source": [
    "class QSimulator(object):\n",
    "    \n",
    "    @staticmethod\n",
    "    def bra(ket):\n",
    "        \"\"\"\n",
    "        Computes the bra corresponding to the ket\n",
    "        \"\"\"\n",
    "        \n",
    "        return np.array([np.conjugate(item) for item in ket])\n",
    "        #return np.conjugate(ket)\n",
    "    \n",
    "        \n",
    "    def __init__(self, state_vector):\n",
    "        \"\"\"\n",
    "        Constructor initialize with the initial state vector\n",
    "        \"\"\"\n",
    "        self._state_vector = state_vector\n",
    "        \n",
    "    def position_probability(self, position_idx):\n",
    "        \"\"\"\n",
    "        Returns the propbability that the particle\n",
    "        is at the specified position index. This is simply the\n",
    "        norm square of the correpsonding applitude divided by the \n",
    "        norm squared of the state vector\n",
    "        \"\"\"\n",
    "        \n",
    "        nominator = np.abs(self._state_vector[position_idx])**2\n",
    "        denominator = LA.norm(self._state_vector)**2\n",
    "        \n",
    "        return nominator/denominator\n",
    "    \n",
    "    def transition_amplitude(self, new_state):\n",
    "        \"\"\"\n",
    "        Returns the transition applitude from \n",
    "        self._state_vector to new_state\n",
    "        \"\"\"\n",
    "        \n",
    "        # first compute the bra of the corresponding ending state\n",
    "        bra = QSimulator.bra(ket=new_state)\n",
    "        \n",
    "        # take the dot product of the bra with the \n",
    "        # current state\n",
    "        dot_product = np.dot(bra, self._state_vector)\n",
    "        \n",
    "        return dot_product\n",
    "    \n",
    "    def transition_probability(self, new_state):\n",
    "        \"\"\"\n",
    "        Returns the propbability that the particle\n",
    "        transitions to the new_state after an observation has been made.\n",
    "        This is simply the absolute value of the transition amplitude\n",
    "        squared see section 4.1 page 113 \n",
    "        \"\"\"\n",
    "        \n",
    "        amplitude = self.transition_amplitude(new_state=new_state)\n",
    "        \n",
    "        return np.abs(amplitude)**2\n",
    "        \n",
    "        "
   ]
  },
  {
   "cell_type": "markdown",
   "metadata": {},
   "source": [
    "## Test"
   ]
  },
  {
   "cell_type": "code",
   "execution_count": 15,
   "metadata": {},
   "outputs": [
    {
     "data": {
      "text/plain": [
       "array([3.-0.j, 1.+2.j])"
      ]
     },
     "execution_count": 15,
     "metadata": {},
     "output_type": "execute_result"
    }
   ],
   "source": [
    "# compute conjugate\n",
    "ket = np.array([3, 1-2j])\n",
    "QSimulator.bra(ket=ket)"
   ]
  },
  {
   "cell_type": "code",
   "execution_count": 16,
   "metadata": {},
   "outputs": [
    {
     "data": {
      "text/plain": [
       "-1.0000000000000002j"
      ]
     },
     "execution_count": 16,
     "metadata": {},
     "output_type": "execute_result"
    }
   ],
   "source": [
    "psi = (np.sqrt(2)/2)*np.array([1, 1j])\n",
    "phi = (np.sqrt(2)/2)*np.array([1j, -1])\n",
    "\n",
    "simulator = QSimulator(state_vector=psi)\n",
    "simulator.transition_amplitude(new_state=phi)"
   ]
  },
  {
   "cell_type": "markdown",
   "metadata": {},
   "source": [
    "## Exercises"
   ]
  },
  {
   "cell_type": "code",
   "execution_count": 13,
   "metadata": {},
   "outputs": [],
   "source": [
    "state = np.array([-3-1j,-2j, 1j, 2])"
   ]
  },
  {
   "cell_type": "code",
   "execution_count": 14,
   "metadata": {},
   "outputs": [],
   "source": [
    "simulator = QSimulator(state_vector=state)"
   ]
  },
  {
   "cell_type": "code",
   "execution_count": 15,
   "metadata": {},
   "outputs": [
    {
     "data": {
      "text/plain": [
       "0.05263157894736841"
      ]
     },
     "execution_count": 15,
     "metadata": {},
     "output_type": "execute_result"
    }
   ],
   "source": [
    "simulator.position_probability(position_idx=2)"
   ]
  },
  {
   "cell_type": "code",
   "execution_count": 17,
   "metadata": {},
   "outputs": [],
   "source": [
    "psi = (np.sqrt(2)/2)*np.array([1j, -1])\n",
    "phi = (np.sqrt(2)/2)*np.array([1, -1j])"
   ]
  },
  {
   "cell_type": "code",
   "execution_count": 19,
   "metadata": {},
   "outputs": [],
   "source": [
    "simulator = QSimulator(state_vector=psi)"
   ]
  },
  {
   "cell_type": "code",
   "execution_count": 20,
   "metadata": {},
   "outputs": [
    {
     "data": {
      "text/plain": [
       "0j"
      ]
     },
     "execution_count": 20,
     "metadata": {},
     "output_type": "execute_result"
    }
   ],
   "source": [
    "simulator.transition_amplitude(new_state=phi)"
   ]
  },
  {
   "cell_type": "code",
   "execution_count": null,
   "metadata": {},
   "outputs": [],
   "source": []
  }
 ],
 "metadata": {
  "kernelspec": {
   "display_name": "Python 3",
   "language": "python",
   "name": "python3"
  },
  "language_info": {
   "codemirror_mode": {
    "name": "ipython",
    "version": 3
   },
   "file_extension": ".py",
   "mimetype": "text/x-python",
   "name": "python",
   "nbconvert_exporter": "python",
   "pygments_lexer": "ipython3",
   "version": "3.8.5"
  }
 },
 "nbformat": 4,
 "nbformat_minor": 4
}

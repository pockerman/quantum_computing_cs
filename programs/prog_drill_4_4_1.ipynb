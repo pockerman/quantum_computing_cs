{
 "cells": [
  {
   "cell_type": "markdown",
   "metadata": {},
   "source": [
    "# Programming Drill 4.4.1"
   ]
  },
  {
   "cell_type": "markdown",
   "metadata": {},
   "source": [
    "Add dynamics to your computer simulation of the particle\n",
    "on a grid: the user should input a number of time steps n, and a corresponding sequence of unitary matrices $U_n$ of the appropriate size. The program will then compute\n",
    "the state vector after the entire sequence $U_n$ has been applied."
   ]
  },
  {
   "cell_type": "code",
   "execution_count": 1,
   "metadata": {},
   "outputs": [],
   "source": [
    "import numpy as np\n",
    "from q_simulator import QSimulator"
   ]
  },
  {
   "cell_type": "code",
   "execution_count": 2,
   "metadata": {},
   "outputs": [],
   "source": [
    "U = np.array([[0., 1.0/np.sqrt(2), 1.0/np.sqrt(2) ,0.],\n",
    "              [1j/np.sqrt(2), 0., 0., 1.0/np.sqrt(2)],\n",
    "              [1.0/np.sqrt(2), 0., 0., 1j/np.sqrt(2)],\n",
    "              [0., 1.0/np.sqrt(2), -1.0/np.sqrt(2), 0.]])"
   ]
  },
  {
   "cell_type": "code",
   "execution_count": 3,
   "metadata": {},
   "outputs": [],
   "source": [
    "psi = np.array([1.0, 0.0, 0.0, 0.0])"
   ]
  },
  {
   "cell_type": "code",
   "execution_count": 4,
   "metadata": {},
   "outputs": [],
   "source": [
    "sim = QSimulator(state_vector=psi)"
   ]
  },
  {
   "cell_type": "code",
   "execution_count": 5,
   "metadata": {},
   "outputs": [
    {
     "name": "stdout",
     "output_type": "stream",
     "text": [
      "State is: [0.        +0.j         0.        +0.70710678j 0.70710678+0.j\n",
      " 0.        +0.j        ]\n",
      "State is: [ 0.5+0.5j  0. +0.j   0. +0.j  -0.5+0.5j]\n",
      "State is: [ 0.        +0.j         -0.70710678+0.70710678j  0.        +0.j\n",
      "  0.        +0.j        ]\n"
     ]
    }
   ],
   "source": [
    "for itr in range(3):\n",
    "    sim.transition(u=U)\n",
    "    print(\"State is: {0}\".format(sim.state))"
   ]
  },
  {
   "cell_type": "code",
   "execution_count": null,
   "metadata": {},
   "outputs": [],
   "source": []
  }
 ],
 "metadata": {
  "kernelspec": {
   "display_name": "Python 3",
   "language": "python",
   "name": "python3"
  },
  "language_info": {
   "codemirror_mode": {
    "name": "ipython",
    "version": 3
   },
   "file_extension": ".py",
   "mimetype": "text/x-python",
   "name": "python",
   "nbconvert_exporter": "python",
   "pygments_lexer": "ipython3",
   "version": "3.8.5"
  }
 },
 "nbformat": 4,
 "nbformat_minor": 4
}

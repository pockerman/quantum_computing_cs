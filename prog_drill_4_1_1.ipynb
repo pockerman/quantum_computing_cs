{
 "cells": [
  {
   "cell_type": "markdown",
   "metadata": {},
   "source": [
    "# Programming Drill 4.1.1"
   ]
  },
  {
   "cell_type": "markdown",
   "metadata": {},
   "source": [
    "Write a program that simulates the first quantum system described in this section. The user should be able to specify how many points the particle can occupy (warning: keep the max number low, or you will fairly quickly run out of memory). The user will also specify a ket state vector by assigning its amplitudes.\n",
    "The program, when asked the likelihood of finding the particle at a given point, will\n",
    "perform the calculations described in Example 4.1.1. If the user enters two kets, the\n",
    "system will calculate the probability of transitioning from the first ket to the second,\n",
    "after an observation has been made."
   ]
  },
  {
   "cell_type": "code",
   "execution_count": 7,
   "metadata": {},
   "outputs": [],
   "source": [
    "import numpy as np\n",
    "from numpy import linalg as LA"
   ]
  },
  {
   "cell_type": "code",
   "execution_count": 12,
   "metadata": {},
   "outputs": [],
   "source": [
    "class QSimulator(object):\n",
    "    \n",
    "    def __init__(self, n_points, state_vector):\n",
    "        \"\"\"\n",
    "        Constructor initialize with the number of points the\n",
    "        particle can occupy and the initial state vector\n",
    "        \"\"\"\n",
    "        self._n_points = n_points\n",
    "        self._state_vector = state_vector\n",
    "        \n",
    "    def position_probability(self, position_idx):\n",
    "        \"\"\"\n",
    "        Returns the propbability that the particle\n",
    "        is at the specified position index. This is simply the\n",
    "        norm square of the correpsonding applitude divided by the \n",
    "        norm squared of the state vector\n",
    "        \"\"\"\n",
    "        \n",
    "        nominator = np.abs(self._state_vector[position_idx])**2\n",
    "        denominator = LA.norm(self._state_vector)**2\n",
    "        \n",
    "        return nominator/denominator\n",
    "        \n",
    "        "
   ]
  },
  {
   "cell_type": "code",
   "execution_count": 13,
   "metadata": {},
   "outputs": [],
   "source": [
    "state = np.array([-3-1j,-2j, 1j, 2])"
   ]
  },
  {
   "cell_type": "code",
   "execution_count": 14,
   "metadata": {},
   "outputs": [],
   "source": [
    "simulator = QSimulator(n_points=4, state_vector=state)\n"
   ]
  },
  {
   "cell_type": "code",
   "execution_count": 15,
   "metadata": {},
   "outputs": [
    {
     "data": {
      "text/plain": [
       "0.05263157894736841"
      ]
     },
     "execution_count": 15,
     "metadata": {},
     "output_type": "execute_result"
    }
   ],
   "source": [
    "simulator.position_probability(position_idx=2)"
   ]
  },
  {
   "cell_type": "code",
   "execution_count": null,
   "metadata": {},
   "outputs": [],
   "source": []
  }
 ],
 "metadata": {
  "kernelspec": {
   "display_name": "Python 3",
   "language": "python",
   "name": "python3"
  },
  "language_info": {
   "codemirror_mode": {
    "name": "ipython",
    "version": 3
   },
   "file_extension": ".py",
   "mimetype": "text/x-python",
   "name": "python",
   "nbconvert_exporter": "python",
   "pygments_lexer": "ipython3",
   "version": "3.8.5"
  }
 },
 "nbformat": 4,
 "nbformat_minor": 4
}

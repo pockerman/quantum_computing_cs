{
 "cells": [
  {
   "cell_type": "markdown",
   "metadata": {},
   "source": [
    "# Entanglement"
   ]
  },
  {
   "cell_type": "markdown",
   "metadata": {},
   "source": [
    "## Contents"
   ]
  },
  {
   "cell_type": "markdown",
   "metadata": {},
   "source": [
    "* [Overview](#overview) \n",
    "* [Entanglement](#ekf)\n",
    "* [References](#refs)"
   ]
  },
  {
   "cell_type": "markdown",
   "metadata": {},
   "source": [
    "## <a name=\"overview\"></a> Overview"
   ]
  },
  {
   "cell_type": "markdown",
   "metadata": {},
   "source": [
    "<a href=\"#\">Quantum entanglement</a> is a physical phenomenon that occurs when a pair or group of particles is generated, interact, or share spatial proximity in a way such that the quantum state of each particle of the pair or group cannot be described independently of the state of the others, including when the particles are separated by a large distance. The topic of quantum entanglement is at the heart of the disparity between classical and quantum physics: entanglement is a primary feature of quantum mechanics lacking in classical mechanics [2]."
   ]
  },
  {
   "cell_type": "markdown",
   "metadata": {},
   "source": [
    "## <a name=\"ekf\"></a> Entanglement"
   ]
  },
  {
   "cell_type": "markdown",
   "metadata": {},
   "source": [
    "Classical mechanics assumes that complex systems can be fully understood if we are able to understand their constituents [1]. This is not necessarily true for quantum systems. Let's see this with the following example from [1]. Let's consider a non-trivial two-particle system. Each particle is allowed to occupy only two points $(x_0, x_1)$ and $(y_0, y_1)$. The quantum system can have the following superimposed state vector"
   ]
  },
  {
   "cell_type": "markdown",
   "metadata": {},
   "source": [
    "$$|\\psi \\rangle = 1|x_0 \\rangle \\otimes |y_0 \\rangle + 0|x_0 \\rangle \\otimes |y_1 \\rangle + 0|x_1 \\rangle \\otimes |y_0 \\rangle + 1|x_1 \\rangle \\otimes |y_1 \\rangle $$"
   ]
  },
  {
   "cell_type": "markdown",
   "metadata": {},
   "source": [
    "We would like to be able to write $|\\psi \\rangle$ as the tensor product of two states coming from the two subsystems [1]. Consider the vectors"
   ]
  },
  {
   "cell_type": "markdown",
   "metadata": {},
   "source": [
    "$$c_0 |x_0 \\rangle + c_1 |x_1 \\rangle$$"
   ]
  },
  {
   "cell_type": "markdown",
   "metadata": {},
   "source": [
    "$$q_0 |y_0 \\rangle + q_1 |y_1 \\rangle$$"
   ]
  },
  {
   "cell_type": "markdown",
   "metadata": {},
   "source": [
    "If $|\\psi \\rangle$ could be represented by these two vectors, then this means that we can write it as their tensor product [1]"
   ]
  },
  {
   "cell_type": "markdown",
   "metadata": {},
   "source": [
    "$$|\\psi \\rangle = c_0q_0|x_0 \\rangle \\otimes |y_0 \\rangle + c_0q_1|x_0 \\rangle \\otimes |y_1 \\rangle + c_1q_0 |x_1 \\rangle \\otimes |y_0 \\rangle + c_1q_1 |x_1 \\rangle \\otimes |y_1 \\rangle$$"
   ]
  },
  {
   "cell_type": "markdown",
   "metadata": {},
   "source": [
    "This means that "
   ]
  },
  {
   "cell_type": "markdown",
   "metadata": {},
   "source": [
    "$$c_0q_0 = c_1q_1 = 1~~\\text{and}~~c_0q_1 = c_1q_0 = 0$$"
   ]
  },
  {
   "cell_type": "markdown",
   "metadata": {},
   "source": [
    "These equations have no solution. Therefore, we conclude that $|\\psi \\rangle$ cannot be represented by these two vectors."
   ]
  },
  {
   "cell_type": "markdown",
   "metadata": {},
   "source": [
    "Quantum entanglement means that the individual particle states are related to one another. Regardless of the actual distance of the particles in space, the putcome of the  measurement for one particle will always\n",
    "determine the measurement outcome for the other [1]."
   ]
  },
  {
   "cell_type": "markdown",
   "metadata": {},
   "source": [
    "---\n",
    "**Remark**"
   ]
  },
  {
   "cell_type": "markdown",
   "metadata": {},
   "source": [
    "**Separable states** are states that can be broken  into the tensor product of states from the constituent subsystems [1].\n",
    "\n",
    "---"
   ]
  },
  {
   "cell_type": "markdown",
   "metadata": {},
   "source": [
    "## <a name=\"refs\"></a> References"
   ]
  },
  {
   "cell_type": "markdown",
   "metadata": {},
   "source": [
    "1. ```Quantum Computing for Computer Scientists```\n",
    "2. <a href=\"https://en.wikipedia.org/wiki/Quantum_entanglement\">Quantum entanglement</a>\n"
   ]
  }
 ],
 "metadata": {
  "kernelspec": {
   "display_name": "Python 3",
   "language": "python",
   "name": "python3"
  },
  "language_info": {
   "codemirror_mode": {
    "name": "ipython",
    "version": 3
   },
   "file_extension": ".py",
   "mimetype": "text/x-python",
   "name": "python",
   "nbconvert_exporter": "python",
   "pygments_lexer": "ipython3",
   "version": "3.8.5"
  }
 },
 "nbformat": 4,
 "nbformat_minor": 4
}

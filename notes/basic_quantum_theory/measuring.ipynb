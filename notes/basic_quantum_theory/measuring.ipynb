{
 "cells": [
  {
   "cell_type": "markdown",
   "metadata": {},
   "source": [
    "# Measuring"
   ]
  },
  {
   "cell_type": "markdown",
   "metadata": {},
   "source": [
    "We are interested in carrying out an observation on a physical system. This is called **measuring** [1]. In other words, measuring is the process where we pose a specific question to the system and expect to get a definite answer [1]. This is indeed the case with classical physics where it is implicitly assumed that [1]"
   ]
  },
  {
   "cell_type": "markdown",
   "metadata": {},
   "source": [
    "- When we attempt to take a measurement this does not affect the state of the system\n",
    "- For a system on a well-defined state the result of the measurement is predictable; the output value can be anicipated given a system in well-defined state"
   ]
  },
  {
   "cell_type": "markdown",
   "metadata": {},
   "source": [
    "However, for quantum systems and thereby for quantum computers, these assumptions do not hold; quantum systems do get modified when measurements are attempted [1] "
   ]
  },
  {
   "cell_type": "markdown",
   "metadata": {},
   "source": [
    "In order to handle concrete measurements we need the following postulate [1]"
   ]
  },
  {
   "cell_type": "markdown",
   "metadata": {},
   "source": [
    "---\n",
    "**Postulate**\n"
   ]
  },
  {
   "cell_type": "markdown",
   "metadata": {},
   "source": [
    "Let $\\Omega$ be an observable and $|\\psi \\rbrack$ be a state. Assume that the result of the measurment of $\\Omega$ is the eigenvalue $\\lambda$. The state after measurement will always be an eigenvector corresponding to $\\lambda$"
   ]
  },
  {
   "cell_type": "markdown",
   "metadata": {},
   "source": [
    "**Note:** This is postulate 4.3.1 page 126 from [1]\n",
    "\n",
    "---"
   ]
  },
  {
   "cell_type": "markdown",
   "metadata": {},
   "source": [
    "## References"
   ]
  },
  {
   "cell_type": "markdown",
   "metadata": {},
   "source": [
    "1. ```Quantum Computing for Computer Scientists```"
   ]
  }
 ],
 "metadata": {
  "kernelspec": {
   "display_name": "Python 3",
   "language": "python",
   "name": "python3"
  },
  "language_info": {
   "codemirror_mode": {
    "name": "ipython",
    "version": 3
   },
   "file_extension": ".py",
   "mimetype": "text/x-python",
   "name": "python",
   "nbconvert_exporter": "python",
   "pygments_lexer": "ipython3",
   "version": "3.8.5"
  }
 },
 "nbformat": 4,
 "nbformat_minor": 4
}

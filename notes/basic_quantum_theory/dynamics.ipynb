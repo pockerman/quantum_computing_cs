{
 "cells": [
  {
   "cell_type": "markdown",
   "metadata": {},
   "source": [
    "# Dynamics\n"
   ]
  },
  {
   "cell_type": "markdown",
   "metadata": {},
   "source": [
    "Measuring a quantum system indices changes on it. However, a quantum system also change with respect to time $t$. We attribute these changes the name quantum dynamics [1]. <a href=\"https://en.wikipedia.org/wiki/Unitary_operator\">Unitary operators</a> are used to introduce quantum dynamics."
   ]
  },
  {
   "cell_type": "markdown",
   "metadata": {},
   "source": [
    "---\n",
    "**Postulate**\n"
   ]
  },
  {
   "cell_type": "markdown",
   "metadata": {},
   "source": [
    "_The evolution of a quantum system (that is not a measurement) is\n",
    "given by a unitary operator or transformation_"
   ]
  },
  {
   "cell_type": "markdown",
   "metadata": {},
   "source": [
    "**Note:** This is postulate 4.4.1 page 130 from [1]\n",
    "\n",
    "---"
   ]
  },
  {
   "cell_type": "markdown",
   "metadata": {},
   "source": [
    "In mathematics the above postulate means that given $\\mathbf{U}$ a unitary matrix and a state vector at time $t$ i.e. $|\\psi(t)$ then the system state at $t+1$ will be"
   ]
  },
  {
   "cell_type": "markdown",
   "metadata": {},
   "source": [
    "$$|\\psi(t+1) = \\mathbf{U}|\\psi(t)$$"
   ]
  },
  {
   "cell_type": "markdown",
   "metadata": {},
   "source": [
    "We need further a way that will associate with each instant of time $t_0, t_1,\\dots, t_{n-1}$ a unitary matrix. Let's denote with $U_{t_0}$ the unitary transformation applied to initial state $|\\psi(t_0)$"
   ]
  },
  {
   "cell_type": "markdown",
   "metadata": {},
   "source": [
    "$$|\\psi(t_1) = U_{t_0} \\psi(t_0)$$"
   ]
  },
  {
   "cell_type": "markdown",
   "metadata": {},
   "source": [
    "Similarly let $U_{t_1}$ be the unitary transformation applied to initial state $|\\psi(t_1)$"
   ]
  },
  {
   "cell_type": "markdown",
   "metadata": {},
   "source": [
    "$$|\\psi(t_2) = U_{t_1} \\psi(t_1) = U_{t_1}U_{t_0} \\psi(t_0)$$"
   ]
  },
  {
   "cell_type": "markdown",
   "metadata": {},
   "source": [
    "Thus, we can form a sequence of state vectors which is called and **orbit** [1]. We can always walk the orbit backwards by applying he the inverses of $U_{t_i}$ in reverse order [1]. This means that [1]: **evolution of a quantum system is symmetric with respect to time**.  "
   ]
  },
  {
   "cell_type": "markdown",
   "metadata": {},
   "source": [
    "---\n",
    "\n",
    "We can now preview how a quantum computation will look. A quantum computer shall be placed into an initial state $|\\psi>$, and we shall then apply a sequence of\n",
    "unitary operators to the state. When we are done, we will measure the output and get a final state\n",
    "\n",
    "---"
   ]
  },
  {
   "cell_type": "markdown",
   "metadata": {},
   "source": [
    "## References"
   ]
  },
  {
   "cell_type": "markdown",
   "metadata": {},
   "source": [
    "1. ```Quantum Computing for Computer Scientists```\n",
    "2. <a href=\"https://en.wikipedia.org/wiki/Unitary_operator\">Unitary operator</a>"
   ]
  }
 ],
 "metadata": {
  "kernelspec": {
   "display_name": "Python 3",
   "language": "python",
   "name": "python3"
  },
  "language_info": {
   "codemirror_mode": {
    "name": "ipython",
    "version": 3
   },
   "file_extension": ".py",
   "mimetype": "text/x-python",
   "name": "python",
   "nbconvert_exporter": "python",
   "pygments_lexer": "ipython3",
   "version": "3.8.5"
  }
 },
 "nbformat": 4,
 "nbformat_minor": 4
}

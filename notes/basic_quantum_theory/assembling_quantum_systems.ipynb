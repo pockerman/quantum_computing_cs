{
 "cells": [
  {
   "cell_type": "markdown",
   "metadata": {},
   "source": [
    "# Assembling Quantum Systems"
   ]
  },
  {
   "cell_type": "markdown",
   "metadata": {},
   "source": [
    "## Contents"
   ]
  },
  {
   "cell_type": "markdown",
   "metadata": {},
   "source": [
    "* [Overview](#overview) \n",
    "* [Assembling quantum systems](#ekf)\n",
    "    * [Example](#sub_sect_1) \n",
    "* [References](#refs)"
   ]
  },
  {
   "cell_type": "markdown",
   "metadata": {},
   "source": [
    "## <a name=\"overview\"></a> Overview"
   ]
  },
  {
   "cell_type": "markdown",
   "metadata": {},
   "source": [
    "## <a name=\"ekf\"></a> Assembling quantum systems"
   ]
  },
  {
   "cell_type": "markdown",
   "metadata": {},
   "source": [
    "This section extends where the previous section was left. Namely, now we will assume two particles occupying respectivelly $(x_0, x_1, \\dots, x_{n-1})$ and $(y_0, y_1, \\dots, y_{n-1})$"
   ]
  },
  {
   "cell_type": "markdown",
   "metadata": {},
   "source": [
    "---\n",
    "**Postulate**\n"
   ]
  },
  {
   "cell_type": "markdown",
   "metadata": {},
   "source": [
    "Assume we have two independent quantum systems $Q$ and $W$, represented respectively by the vector spaces $V_{Q}$ and $V_{W}$ . The quantum system obtained by\n",
    "merging $Q$ and $W$ will have the <a href=\"https://en.wikipedia.org/wiki/Tensor_product\">tensor product</a> $V_{Q} \\otimes V_{W}$ as a state space"
   ]
  },
  {
   "cell_type": "markdown",
   "metadata": {},
   "source": [
    "**Note:** This is postulate 4.5.1 page 133 from [1]\n",
    "\n",
    "---"
   ]
  },
  {
   "cell_type": "markdown",
   "metadata": {},
   "source": [
    "Since the tensor product of vector spaces is associative, we can built larger quantum systems by taking their tensor product [1].  Let's see how by an example."
   ]
  },
  {
   "cell_type": "markdown",
   "metadata": {},
   "source": [
    "Assume that we have $n \\times m$ possible basic states. Then we can form the following pair-wise tensor products [1]"
   ]
  },
  {
   "cell_type": "markdown",
   "metadata": {},
   "source": [
    "$$|x_i \\rangle \\otimes |y_j \\rangle, i=0, \\dots n, j=0, \\dots m $$"
   ]
  },
  {
   "cell_type": "markdown",
   "metadata": {},
   "source": [
    "that is the first particle is at position $|x_i \\rangle $ whilst the second particle is at position $|y_j \\rangle$. The generic state vector can be written as a superposition of the basic states [1]"
   ]
  },
  {
   "cell_type": "markdown",
   "metadata": {},
   "source": [
    "$$|\\psi \\rangle = \\sum_{i}^{n-1} \\sum_{j}^{m-1}c_{i,j} |x_i \\rangle \\otimes |y_j \\rangle$$"
   ]
  },
  {
   "cell_type": "markdown",
   "metadata": {},
   "source": [
    "This is a vector in the $\\mathbb{C}^{n\\times m}$ complex space."
   ]
  },
  {
   "cell_type": "markdown",
   "metadata": {},
   "source": [
    "Just like in the one particle case $|c_i|^2$ gave the probability of finding the particle at the elementary position $x_i$, the $|c_{i,j}|^2$ amplitude will give us the probability of finding the two particles at positions $x_i$ and $y_j$  respectively [1]."
   ]
  },
  {
   "cell_type": "markdown",
   "metadata": {},
   "source": [
    "### <a name=\"sub_sect_1\"></a> Example "
   ]
  },
  {
   "cell_type": "markdown",
   "metadata": {},
   "source": [
    "Assume the following state space $\\mathbb{C}^{n\\times m}$ with $n=m=2$. The standard basis therefore is "
   ]
  },
  {
   "cell_type": "markdown",
   "metadata": {},
   "source": [
    "$$\\{ |x_0 \\rangle \\otimes |y_0 \\rangle, |x_0 \\rangle \\otimes |y_1 \\rangle, |x_1 \\rangle \\otimes |y_0 \\rangle, |x_1 \\rangle \\otimes |y_1 \\rangle \\}$$"
   ]
  },
  {
   "cell_type": "markdown",
   "metadata": {},
   "source": [
    "---\n",
    "**Remark**"
   ]
  },
  {
   "cell_type": "markdown",
   "metadata": {},
   "source": [
    "This is example 4.5.1 page 133 from 1\n",
    "\n",
    "---"
   ]
  },
  {
   "cell_type": "code",
   "execution_count": 2,
   "metadata": {},
   "outputs": [],
   "source": [
    "import numpy as np"
   ]
  },
  {
   "cell_type": "code",
   "execution_count": 3,
   "metadata": {},
   "outputs": [],
   "source": [
    "psi = np.array([0. + 1j, 1. - 1j, 2. , -1. -1j])"
   ]
  },
  {
   "cell_type": "code",
   "execution_count": 4,
   "metadata": {},
   "outputs": [
    {
     "name": "stdout",
     "output_type": "stream",
     "text": [
      "9.0\n"
     ]
    }
   ],
   "source": [
    "ss = 0.0\n",
    "\n",
    "for item in psi:\n",
    "    ss += np.abs(item)**2\n",
    "    \n",
    "print(ss)"
   ]
  },
  {
   "cell_type": "code",
   "execution_count": 5,
   "metadata": {},
   "outputs": [
    {
     "name": "stdout",
     "output_type": "stream",
     "text": [
      "p(x_1, y_1)=0.22222222222222227\n"
     ]
    }
   ],
   "source": [
    "print(\"p(x_1, y_1)={0}\".format(np.abs(psi[3])**2/ss))"
   ]
  },
  {
   "cell_type": "markdown",
   "metadata": {},
   "source": [
    "## References"
   ]
  },
  {
   "cell_type": "markdown",
   "metadata": {},
   "source": [
    "1. ```Quantum Computing for Computer Scientists```\n",
    "2. <a href=\"https://en.wikipedia.org/wiki/Tensor_product\">Tensor product</a>\n",
    "3. <a href=\"https://en.wikipedia.org/wiki/Schr%C3%B6dinger_equation\">Schrödinger equation</a>"
   ]
  }
 ],
 "metadata": {
  "kernelspec": {
   "display_name": "Python 3",
   "language": "python",
   "name": "python3"
  },
  "language_info": {
   "codemirror_mode": {
    "name": "ipython",
    "version": 3
   },
   "file_extension": ".py",
   "mimetype": "text/x-python",
   "name": "python",
   "nbconvert_exporter": "python",
   "pygments_lexer": "ipython3",
   "version": "3.8.5"
  }
 },
 "nbformat": 4,
 "nbformat_minor": 4
}

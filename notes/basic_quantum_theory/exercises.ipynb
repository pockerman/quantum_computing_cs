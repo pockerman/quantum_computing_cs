{
 "cells": [
  {
   "cell_type": "markdown",
   "metadata": {},
   "source": [
    "# Exercises"
   ]
  },
  {
   "cell_type": "markdown",
   "metadata": {},
   "source": [
    "Exercises from chapter 4 from the book ```Quantum Computing for Computer Scientists``` solved with a bit of Python help."
   ]
  },
  {
   "cell_type": "markdown",
   "metadata": {},
   "source": [
    "## Exercise 4.4.1"
   ]
  },
  {
   "cell_type": "markdown",
   "metadata": {},
   "source": [
    "Verify that the following matrices are unitary matrices"
   ]
  },
  {
   "cell_type": "markdown",
   "metadata": {},
   "source": [
    "### Answer"
   ]
  },
  {
   "cell_type": "markdown",
   "metadata": {},
   "source": [
    "A matrix is a unitary matrix iff "
   ]
  },
  {
   "cell_type": "markdown",
   "metadata": {},
   "source": [
    "$$\\mathbf{U}^T\\mathbf{U}=\\mathbf{U}\\mathbf{U}^T=\\mathbf{I}$$"
   ]
  },
  {
   "cell_type": "code",
   "execution_count": 1,
   "metadata": {},
   "outputs": [],
   "source": [
    "import numpy as np"
   ]
  },
  {
   "cell_type": "code",
   "execution_count": 2,
   "metadata": {},
   "outputs": [],
   "source": [
    "u1 = np.array([[0., 1.0],[1.0, 0.0]])"
   ]
  },
  {
   "cell_type": "code",
   "execution_count": 4,
   "metadata": {},
   "outputs": [
    {
     "data": {
      "text/plain": [
       "array([[1., 0.],\n",
       "       [0., 1.]])"
      ]
     },
     "execution_count": 4,
     "metadata": {},
     "output_type": "execute_result"
    }
   ],
   "source": [
    "np.dot(u1.T,u1)"
   ]
  },
  {
   "cell_type": "code",
   "execution_count": 5,
   "metadata": {},
   "outputs": [
    {
     "data": {
      "text/plain": [
       "array([[1., 0.],\n",
       "       [0., 1.]])"
      ]
     },
     "execution_count": 5,
     "metadata": {},
     "output_type": "execute_result"
    }
   ],
   "source": [
    "np.dot(u1, u1.T)"
   ]
  },
  {
   "cell_type": "markdown",
   "metadata": {},
   "source": [
    "So $U_1$ is unitary"
   ]
  },
  {
   "cell_type": "code",
   "execution_count": 8,
   "metadata": {},
   "outputs": [],
   "source": [
    "u2 = np.array([[np.sqrt(2)/2., np.sqrt(2)/2.],[np.sqrt(2)/2., -np.sqrt(2)/2.]])"
   ]
  },
  {
   "cell_type": "code",
   "execution_count": 9,
   "metadata": {},
   "outputs": [
    {
     "data": {
      "text/plain": [
       "array([[1.00000000e+00, 4.26642159e-17],\n",
       "       [4.26642159e-17, 1.00000000e+00]])"
      ]
     },
     "execution_count": 9,
     "metadata": {},
     "output_type": "execute_result"
    }
   ],
   "source": [
    "np.dot(u2.T,u2)"
   ]
  },
  {
   "cell_type": "code",
   "execution_count": 10,
   "metadata": {},
   "outputs": [
    {
     "data": {
      "text/plain": [
       "array([[1.00000000e+00, 4.26642159e-17],\n",
       "       [4.26642159e-17, 1.00000000e+00]])"
      ]
     },
     "execution_count": 10,
     "metadata": {},
     "output_type": "execute_result"
    }
   ],
   "source": [
    "np.dot(u2, u2.T)"
   ]
  },
  {
   "cell_type": "markdown",
   "metadata": {},
   "source": [
    "The product of two unitary matrices is also unitary"
   ]
  },
  {
   "cell_type": "code",
   "execution_count": 13,
   "metadata": {},
   "outputs": [],
   "source": [
    "product = np.dot(u1, u2)"
   ]
  },
  {
   "cell_type": "code",
   "execution_count": 14,
   "metadata": {},
   "outputs": [
    {
     "data": {
      "text/plain": [
       "array([[1.00000000e+00, 4.26642159e-17],\n",
       "       [4.26642159e-17, 1.00000000e+00]])"
      ]
     },
     "execution_count": 14,
     "metadata": {},
     "output_type": "execute_result"
    }
   ],
   "source": [
    "np.dot(product, product.T)"
   ]
  },
  {
   "cell_type": "code",
   "execution_count": 15,
   "metadata": {},
   "outputs": [
    {
     "data": {
      "text/plain": [
       "array([[ 1.00000000e+00, -4.26642159e-17],\n",
       "       [-4.26642159e-17,  1.00000000e+00]])"
      ]
     },
     "execution_count": 15,
     "metadata": {},
     "output_type": "execute_result"
    }
   ],
   "source": [
    "np.dot(product.T, product)"
   ]
  },
  {
   "cell_type": "markdown",
   "metadata": {},
   "source": [
    "Hence, the product of two unitary matrices is a unitary matrix itself."
   ]
  },
  {
   "cell_type": "markdown",
   "metadata": {},
   "source": [
    "## Exercise 4.4.2"
   ]
  },
  {
   "cell_type": "markdown",
   "metadata": {},
   "source": [
    "Consider the initial state vector "
   ]
  },
  {
   "cell_type": "markdown",
   "metadata": {},
   "source": [
    "$$ |\\psi(t_0) \\rangle = (1, 0, 0, 0)$$"
   ]
  },
  {
   "cell_type": "markdown",
   "metadata": {},
   "source": [
    "and the unitary map "
   ]
  },
  {
   "cell_type": "markdown",
   "metadata": {},
   "source": [
    "$$U = \\begin{bmatrix} 0 && 1.0/\\sqrt{2} && 1.0/\\sqrt{2} && 0 \\\\\n",
    "                      i/\\sqrt{2} && 0 && 0 && 1.0/\\sqrt{2} \\\\\n",
    "                      1.0/\\sqrt{2} && 0 && 0 && i/\\sqrt{2} \\\\\n",
    "                      0 && 1.0/\\sqrt{2} && -1.0/\\sqrt{2} && 0 \\end{bmatrix}$$"
   ]
  },
  {
   "cell_type": "markdown",
   "metadata": {},
   "source": [
    "What is the system state after three steps?"
   ]
  },
  {
   "cell_type": "markdown",
   "metadata": {},
   "source": [
    "### Answer"
   ]
  },
  {
   "cell_type": "code",
   "execution_count": 39,
   "metadata": {},
   "outputs": [],
   "source": [
    "psi = np.array([1.0, 0.0, 0.0, 0.0])"
   ]
  },
  {
   "cell_type": "code",
   "execution_count": 40,
   "metadata": {},
   "outputs": [],
   "source": [
    "U = np.array([[0., 1.0/np.sqrt(2), 1.0/np.sqrt(2) ,0.],\n",
    "              [1j/np.sqrt(2), 0., 0., 1.0/np.sqrt(2)],\n",
    "              [1.0/np.sqrt(2), 0., 0., 1j/np.sqrt(2)],\n",
    "              [0., 1.0/np.sqrt(2), -1.0/np.sqrt(2), 0.]])"
   ]
  },
  {
   "cell_type": "code",
   "execution_count": 42,
   "metadata": {},
   "outputs": [
    {
     "name": "stdout",
     "output_type": "stream",
     "text": [
      "State is: [0.        +0.j         0.        +0.70710678j 0.70710678+0.j\n",
      " 0.        +0.j        ]\n",
      "State is: [ 0.5+0.5j  0. +0.j   0. +0.j  -0.5+0.5j]\n",
      "State is: [ 0.        +0.j         -0.70710678+0.70710678j  0.        +0.j\n",
      "  0.        +0.j        ]\n"
     ]
    }
   ],
   "source": [
    "old_state = psi\n",
    "for itr in range(3):\n",
    "    psi = U.dot(old_state)\n",
    "    print(\"State is: {0}\".format(psi))\n",
    "    old_state = psi"
   ]
  },
  {
   "cell_type": "markdown",
   "metadata": {},
   "source": [
    "## Exercise 4.5.1"
   ]
  },
  {
   "cell_type": "markdown",
   "metadata": {},
   "source": [
    "Consider the state space $\\mathbb{C}^{n \\times m}$ where $n=m=4$ and the following applitude coefficients"
   ]
  },
  {
   "cell_type": "markdown",
   "metadata": {},
   "source": [
    "$$c_{0,0} = c_{0,1}=\\dots=c_{3,3} = 1 +i$$"
   ]
  },
  {
   "cell_type": "markdown",
   "metadata": {},
   "source": [
    "What is the probability of finding the first particle at location $x_1$ and the second one at $y_1$?"
   ]
  },
  {
   "cell_type": "markdown",
   "metadata": {},
   "source": [
    "### Answer"
   ]
  },
  {
   "cell_type": "markdown",
   "metadata": {},
   "source": [
    "The superimposed state is "
   ]
  },
  {
   "cell_type": "markdown",
   "metadata": {},
   "source": [
    "$$|\\psi \\rangle = c_{0,0}|x_0 \\rangle \\otimes |y_0 \\rangle + c_{0,1}|x_0 \\rangle \\otimes |y_1 \\rangle +\\dots + c_{3,3}|x_3 \\rangle \\otimes |y_3 \\rangle $$"
   ]
  },
  {
   "cell_type": "markdown",
   "metadata": {},
   "source": [
    "The probability of finding the first particle at location $x_1$ and the second one at $y_1$ is given by"
   ]
  },
  {
   "cell_type": "markdown",
   "metadata": {},
   "source": [
    "$$p(x_1, y_1) = \\frac{|c_{1,1}|^2}{\\sum_{i} \\sum_{j} |c_{i,j}|^2}$$"
   ]
  },
  {
   "cell_type": "code",
   "execution_count": 17,
   "metadata": {},
   "outputs": [],
   "source": [
    "import numpy as np"
   ]
  },
  {
   "cell_type": "code",
   "execution_count": 18,
   "metadata": {},
   "outputs": [],
   "source": [
    "psi = np.array([1. + 1j, 1. + 1j, 1.+1j, 1.+1j, 1.+1j,\n",
    "                1. + 1j, 1. + 1j, 1.+1j, 1.+1j, 1.+1j,\n",
    "                1. + 1j, 1. + 1j, 1.+1j, 1.+1j, 1.+1j, 1.+1j ])"
   ]
  },
  {
   "cell_type": "code",
   "execution_count": 19,
   "metadata": {},
   "outputs": [
    {
     "name": "stdout",
     "output_type": "stream",
     "text": [
      "32.00000000000001\n"
     ]
    }
   ],
   "source": [
    "ss = 0.0\n",
    "\n",
    "for item in psi:\n",
    "    ss += np.abs(item)**2\n",
    "    \n",
    "print(ss)"
   ]
  },
  {
   "cell_type": "code",
   "execution_count": 20,
   "metadata": {},
   "outputs": [
    {
     "name": "stdout",
     "output_type": "stream",
     "text": [
      "p(x_1, y_1)=0.0625\n"
     ]
    }
   ],
   "source": [
    "print(\"p(x_1, y_1)={0}\".format(np.abs(psi[1])**2/ss))"
   ]
  },
  {
   "cell_type": "code",
   "execution_count": null,
   "metadata": {},
   "outputs": [],
   "source": []
  }
 ],
 "metadata": {
  "kernelspec": {
   "display_name": "Python 3",
   "language": "python",
   "name": "python3"
  },
  "language_info": {
   "codemirror_mode": {
    "name": "ipython",
    "version": 3
   },
   "file_extension": ".py",
   "mimetype": "text/x-python",
   "name": "python",
   "nbconvert_exporter": "python",
   "pygments_lexer": "ipython3",
   "version": "3.8.5"
  }
 },
 "nbformat": 4,
 "nbformat_minor": 4
}

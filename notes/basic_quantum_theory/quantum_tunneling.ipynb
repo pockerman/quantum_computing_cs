{
 "cells": [
  {
   "cell_type": "markdown",
   "metadata": {},
   "source": [
    "# Quantum tunnelling"
   ]
  },
  {
   "cell_type": "markdown",
   "metadata": {},
   "source": [
    "Quantum tunnelling or tunneling (US) is the quantum mechanical phenomenon where a wavefunction can propagate through a potential barrier. Quantum tunneling is projected to create physical limits to the size of the transistors used in microelectronics, due to electrons being able to tunnel past transistors that are too small. Tunneling may be explained in terms of the Heisenberg uncertainty principle in that a quantum object can be known as a wave or as a particle in general. In other words, the uncertainty in the exact location of light particles allows these particles to break rules of classical mechanics and move in space without passing over the potential energy barrier [1]."
   ]
  },
  {
   "cell_type": "markdown",
   "metadata": {},
   "source": [
    "Quantum tunneling falls under the domain of quantum mechanics: the study of what happens at the quantum scale. tunneling cannot be directly perceived. Much of its understanding is shaped by the microscopic world, which classical mechanics cannot explain. To understand the phenomenon, particles attempting to travel across a potential barrier can be compared to a ball trying to roll over a hill.\n",
    "\n",
    "Quantum mechanics and classical mechanics differ in their treatment of this scenario. Classical mechanics predicts that particles that do not have enough energy to classically surmount a barrier cannot reach the other side. Thus, a ball without sufficient energy to surmount the hill would roll back down. A ball that lacks the energy to penetrate a wall bounces back. Alternatively, the ball might become part of the wall (absorption).\n",
    "\n",
    "In quantum mechanics, these particles can, with a small probability, tunnel to the other side, thus crossing the barrier. The ball, in a sense, borrows energy from its surroundings to cross the wall. It then repays the energy by making the reflected electrons[clarification needed] more energetic than they otherwise would have been.[16]\n",
    "\n",
    "The reason for this difference comes from treating matter as having properties of waves and particles. One interpretation of this duality involves the Heisenberg uncertainty principle, which defines a limit on how precisely the position and the momentum of a particle can be simultaneously known.[7] This implies that no solutions have a probability of exactly zero (or one), though it may approach infinity. If, for example, the calculation for its position was taken as a probability of 1, its speed, would have to be infinity (an impossibility). Hence, the probability of a given particle's existence on the opposite side of an intervening barrier is non-zero, and such particles will appear on the 'other' (a semantically difficult word in this instance) side in proportion to this probability [1]. "
   ]
  },
  {
   "cell_type": "markdown",
   "metadata": {},
   "source": [
    "## References\n",
    "\n"
   ]
  },
  {
   "cell_type": "markdown",
   "metadata": {},
   "source": [
    "1. <a href=\"https://en.wikipedia.org/wiki/Quantum_tunnelling\">Quantum tunnelling</a>"
   ]
  }
 ],
 "metadata": {
  "kernelspec": {
   "display_name": "Python 3",
   "language": "python",
   "name": "python3"
  },
  "language_info": {
   "codemirror_mode": {
    "name": "ipython",
    "version": 3
   },
   "file_extension": ".py",
   "mimetype": "text/x-python",
   "name": "python",
   "nbconvert_exporter": "python",
   "pygments_lexer": "ipython3",
   "version": "3.8.5"
  }
 },
 "nbformat": 4,
 "nbformat_minor": 4
}

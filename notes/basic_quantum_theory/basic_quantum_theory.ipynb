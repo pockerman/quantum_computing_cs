{
 "cells": [
  {
   "cell_type": "markdown",
   "metadata": {},
   "source": [
    "# Item: Basic Quantum Theory"
   ]
  },
  {
   "cell_type": "markdown",
   "metadata": {},
   "source": [
    "In this section we review some core ideas from quantum mechanics. These ideas are needed in order to understand some techniques behind computing. Specifically, we will be looking at:"
   ]
  },
  {
   "cell_type": "markdown",
   "metadata": {},
   "source": [
    "- <a href=\"https://en.wikipedia.org/wiki/Quantum_entanglement\">Quantum entanglement</a>\n",
    "- <a href=\"https://en.wikipedia.org/wiki/Quantum_superposition\">Superposition of states</a>\n",
    "- <a href=\"https://en.wikipedia.org/wiki/Born_rule\">Born's rule</a>\n",
    "- <a href=\"https://en.wikipedia.org/wiki/Reversible_computing\">Reversability of computation</a>"
   ]
  },
  {
   "cell_type": "markdown",
   "metadata": {},
   "source": [
    "Superposition of states allows us to assemble quantum system. Furthermore, we will be discussins how to measure the state of a quantum system. Measuring, ultimately causes the system to set to a definite state which is our context will be either the $|0\\rangle $ or $|1\\rangle $ bits. "
   ]
  }
 ],
 "metadata": {
  "kernelspec": {
   "display_name": "Python 3",
   "language": "python",
   "name": "python3"
  },
  "language_info": {
   "codemirror_mode": {
    "name": "ipython",
    "version": 3
   },
   "file_extension": ".py",
   "mimetype": "text/x-python",
   "name": "python",
   "nbconvert_exporter": "python",
   "pygments_lexer": "ipython3",
   "version": "3.8.5"
  }
 },
 "nbformat": 4,
 "nbformat_minor": 4
}

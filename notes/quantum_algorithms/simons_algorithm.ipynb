{
 "cells": [
  {
   "cell_type": "markdown",
   "metadata": {},
   "source": [
    "# Simon's Algorithm"
   ]
  },
  {
   "cell_type": "markdown",
   "metadata": {},
   "source": [
    "* [Overview](#overview) \n",
    "* [Simon's  algorithm](#ekf)\n",
    "    * [Classical solution](#sub_sec_1)\n",
    "    * [Quantum solution](#sub_sec_2)\n",
    "* [References](#refs)"
   ]
  },
  {
   "cell_type": "markdown",
   "metadata": {},
   "source": [
    "## <a name=\"overview\"></a> Overview"
   ]
  },
  {
   "cell_type": "markdown",
   "metadata": {},
   "source": [
    "Simon's algorithm  was the first quantum algorithm to show an exponential speed-up versus the best classical algorithm in solving a specific problem [2]. It inspired the quantum algorithms based on the quantum Fourier transform, which is used in the most famous quantum algorithm: Shor's factoring algorithm [2]."
   ]
  },
  {
   "cell_type": "markdown",
   "metadata": {},
   "source": [
    "## <a name=\"ekf\"></a>  Simon's algorithm"
   ]
  },
  {
   "cell_type": "markdown",
   "metadata": {},
   "source": [
    "Let's assume the function $f$ such that"
   ]
  },
  {
   "cell_type": "markdown",
   "metadata": {},
   "source": [
    "$$f: \\{0,1\\}^n \\rightarrow \\{0,1\\}^n = 1$$"
   ]
  },
  {
   "cell_type": "markdown",
   "metadata": {},
   "source": [
    "The function is given as a black box i.e. we cannot look inside only evaluate it. We are assured that there exists a hidden binary string $\\mathbf{c} = c_0c_1c_2\\dotsc_{n-1}$ such that for all strings $\\mathbf{x},\\mathbf{y} \\in \\{0,1\\}^n$ we have"
   ]
  },
  {
   "cell_type": "markdown",
   "metadata": {},
   "source": [
    "$$f(\\mathbf{x}) = f(\\mathbf{y})~~\\text{iff}~~ \\mathbf{x}=\\mathbf{y}\\oplus \\mathbf{c}$$"
   ]
  },
  {
   "cell_type": "markdown",
   "metadata": {},
   "source": [
    "\n",
    "that is the values of $f$ repeat themselves in some pattern and the pattern is determined by $\\mathbf{c}$ [1]. We call $\\mathbf{c}$ the period of $f$. Notice the following [1]"
   ]
  },
  {
   "cell_type": "markdown",
   "metadata": {},
   "source": [
    "- if $\\mathbf{c} = 0^n$ the function is $1-1$. Otherwise the function is $2-1$ "
   ]
  },
  {
   "cell_type": "markdown",
   "metadata": {},
   "source": [
    "The function $f$ will be given as a unitary operation."
   ]
  },
  {
   "cell_type": "markdown",
   "metadata": {},
   "source": [
    "### <a name=\"sub_sec_1\"></a> Classical  solution"
   ]
  },
  {
   "cell_type": "markdown",
   "metadata": {},
   "source": [
    "### <a name=\"sub_sec_2\"></a> Quantum solution"
   ]
  },
  {
   "cell_type": "markdown",
   "metadata": {},
   "source": [
    "The quantum circuit that implements Simon's algorithm is shown below."
   ]
  },
  {
   "cell_type": "markdown",
   "metadata": {},
   "source": [
    "The algorithm involves the following steps [2]."
   ]
  },
  {
   "cell_type": "markdown",
   "metadata": {},
   "source": [
    "1. Two Initialize $n$-qubit input registers to the zero state\n",
    "2. Apply a Hadamard transform to the first register\n",
    "3. Apply the query function $U_f$\n",
    "4. Measure the second register. A certain value of $f(x)$ will be observed. Because of the setting of the problem, the observed value $f(x)$ could correspond to two possible inputs: $x$ and $y=x \\otimes b$. Therefore the first register becomes: "
   ]
  },
  {
   "cell_type": "markdown",
   "metadata": {},
   "source": [
    "$$\\alpha_{x^{*}} |x^*\\rangle \\rightarrow - \\alpha_{x^*}|x^*\\rangle$$"
   ]
  },
  {
   "cell_type": "markdown",
   "metadata": {},
   "source": [
    "Changing the\n",
    "phase from positive to negative separates the phases, but does not separate them\n",
    "enough. In order to reinforce that the algorithm uses inversion about the mean [1]."
   ]
  },
  {
   "cell_type": "markdown",
   "metadata": {},
   "source": [
    "### <a name=\"sub_sec_2\"></a> Inversion about the mean"
   ]
  },
  {
   "cell_type": "markdown",
   "metadata": {},
   "source": [
    "The second trick used in Grover's algorithm is the so called inversion about the mean. Let's consider the mean $\\mu$ of the amplitude coefficients"
   ]
  },
  {
   "cell_type": "markdown",
   "metadata": {},
   "source": [
    "$$\\mu = \\frac{1}{N}\\sum_{x} \\alpha_x$$"
   ]
  },
  {
   "cell_type": "markdown",
   "metadata": {},
   "source": [
    "The algorithm uses $\\mu$ to flip the amplitudes according to"
   ]
  },
  {
   "cell_type": "markdown",
   "metadata": {},
   "source": [
    "$$\\alpha_x  \\rightarrow 2\\mu - \\alpha_x $$"
   ]
  },
  {
   "cell_type": "markdown",
   "metadata": {},
   "source": [
    "The effect of this operation is that if $\\alpha_x < \\mu$ it flips it up whilst if it is larger it flips it down. This operation is unitary. In fact the mean of the flipped amplitudes remains  the same. The inversion about the mean operation can be written in terms of matrices as [1]"
   ]
  },
  {
   "cell_type": "markdown",
   "metadata": {},
   "source": [
    "$$(-I + 2A)$$"
   ]
  },
  {
   "cell_type": "markdown",
   "metadata": {},
   "source": [
    "where $A$ is a square matrix with entries $A_{ij} = 1/n$ where $n$ is the number elements."
   ]
  },
  {
   "cell_type": "markdown",
   "metadata": {},
   "source": [
    "The step's of the algorithm are as follows [1]"
   ]
  },
  {
   "cell_type": "markdown",
   "metadata": {},
   "source": [
    "1. Start with a state $| \\mathbf{0}\\rangle$\n",
    "2. Apply $H^{\\otimes n}$\n",
    "3. Repeat $\\sqrt{2^n}$ times\n",
    "    - Apply the phase inversion operation $U_f(I \\otimes H)$\n",
    "    - Apply the inversion about the mean operation $-I + 2A$\n",
    "4. Measure the qubits"
   ]
  },
  {
   "cell_type": "markdown",
   "metadata": {},
   "source": [
    "The following video nicely explains the two operations in Grover's algorithm."
   ]
  },
  {
   "cell_type": "markdown",
   "metadata": {},
   "source": [
    "## References"
   ]
  },
  {
   "cell_type": "markdown",
   "metadata": {},
   "source": [
    "1. Noson S. Yanofsky and Mirco A. Mannucci, ```Quantum Computing for Computer Scientists```, Cambridge University Press\n",
    "2. <a href=\"https://qiskit.org/textbook/ch-algorithms/simon.html\">Qiskit: Simon's algorithm</a>\n",
    "3. Abhijith J. et. al., ```Quantum Algorithm Implementations for Beginners```.\n",
    "4. <a href=\"https://en.wikipedia.org/wiki/Simon%27s_problem\">Simon's algorithm</a>"
   ]
  }
 ],
 "metadata": {
  "kernelspec": {
   "display_name": "Python 3",
   "language": "python",
   "name": "python3"
  },
  "language_info": {
   "codemirror_mode": {
    "name": "ipython",
    "version": 3
   },
   "file_extension": ".py",
   "mimetype": "text/x-python",
   "name": "python",
   "nbconvert_exporter": "python",
   "pygments_lexer": "ipython3",
   "version": "3.8.5"
  }
 },
 "nbformat": 4,
 "nbformat_minor": 4
}

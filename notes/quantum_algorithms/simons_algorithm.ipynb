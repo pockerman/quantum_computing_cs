{
 "cells": [
  {
   "cell_type": "markdown",
   "metadata": {},
   "source": [
    "# Simon's Algorithm"
   ]
  },
  {
   "cell_type": "markdown",
   "metadata": {},
   "source": [
    "* [Overview](#overview) \n",
    "* [Simon's  algorithm](#ekf)\n",
    "    * [Classical solution](#sub_sec_1)\n",
    "    * [Quantum solution](#sub_sec_2)\n",
    "* [References](#refs)"
   ]
  },
  {
   "cell_type": "markdown",
   "metadata": {},
   "source": [
    "## <a name=\"overview\"></a> Overview"
   ]
  },
  {
   "cell_type": "markdown",
   "metadata": {},
   "source": [
    "Simon's algorithm  was the first quantum algorithm to show an exponential speed-up versus the best classical algorithm in solving a specific problem [2]. It inspired the quantum algorithms based on the quantum Fourier transform, which is used in the most famous quantum algorithm: Shor's factoring algorithm [2]."
   ]
  },
  {
   "cell_type": "markdown",
   "metadata": {},
   "source": [
    "## <a name=\"ekf\"></a>  Simon's algorithm"
   ]
  },
  {
   "cell_type": "markdown",
   "metadata": {},
   "source": [
    "Let's assume the function $f$ such that"
   ]
  },
  {
   "cell_type": "markdown",
   "metadata": {},
   "source": [
    "$$f: \\{0,1\\}^n \\rightarrow \\{0,1\\}^n = 1$$"
   ]
  },
  {
   "cell_type": "markdown",
   "metadata": {},
   "source": [
    "The function is given as a black box i.e. we cannot look inside only evaluate it. We are assured that there exists a hidden binary string $\\mathbf{c} = c_0c_1c_2\\dotsc_{n-1}$ such that for all strings $\\mathbf{x},\\mathbf{y} \\in \\{0,1\\}^n$ we have"
   ]
  },
  {
   "cell_type": "markdown",
   "metadata": {},
   "source": [
    "$$f(\\mathbf{x}) = f(\\mathbf{y})~~\\text{iff}~~ \\mathbf{x}=\\mathbf{y}\\oplus \\mathbf{c}$$"
   ]
  },
  {
   "cell_type": "markdown",
   "metadata": {},
   "source": [
    "\n",
    "that is the values of $f$ repeat themselves in some pattern and the pattern is determined by $\\mathbf{c}$ [1]. We call $\\mathbf{c}$ the period of $f$. Notice the following [1]"
   ]
  },
  {
   "cell_type": "markdown",
   "metadata": {},
   "source": [
    "- if $\\mathbf{c} = 0^n$ the function is $1-1$. Otherwise the function is $2-1$ "
   ]
  },
  {
   "cell_type": "markdown",
   "metadata": {},
   "source": [
    "The function $f$ will be given as a unitary operation."
   ]
  },
  {
   "cell_type": "markdown",
   "metadata": {},
   "source": [
    "### <a name=\"sub_sec_1\"></a> Classical  solution"
   ]
  },
  {
   "cell_type": "markdown",
   "metadata": {},
   "source": [
    "On a classical machine, if we want to know what $\\mathbf{c}$ is for a given $f$, we have to check up to $2^{n−1} +1$ inputs, where $n$ is the number of bits in the input [2]. This means checking just over half of all the possible inputs until we find two cases of the same output. Much like the Deutsch-Jozsa problem, if we get lucky, we could solve the problem with our first two tries. But if we happen to get an $f$ that is 1-1, or get really unlucky with an $f$ that is 2-1, then we are stuck with the full $2^{n−1} + 1$. There are known algorithms that have a lower bound of $\\Omega(2n/2)$, but generally speaking the complexity grows exponentially with $n$"
   ]
  },
  {
   "cell_type": "markdown",
   "metadata": {},
   "source": [
    "### <a name=\"sub_sec_2\"></a> Quantum solution"
   ]
  },
  {
   "cell_type": "markdown",
   "metadata": {},
   "source": [
    "The quantum circuit that implements Simon's algorithm is shown below."
   ]
  },
  {
   "cell_type": "markdown",
   "metadata": {},
   "source": [
    " <figure>\n",
    "  <img src=\"../imgs/simon_steps.jpeg\" alt=\"Trulli\" style=\"width:30%\">\n",
    "  <figcaption>Figure 1. Simon's algorithm circuit. Image from [2]</figcaption>\n",
    "</figure> "
   ]
  },
  {
   "cell_type": "markdown",
   "metadata": {},
   "source": [
    "The query function $U_f$ acts on two quantum registers [2]. The algorithm involves the following steps [2]."
   ]
  },
  {
   "cell_type": "markdown",
   "metadata": {},
   "source": [
    "1. Initialize two $n$-qubit input registers to the zero state\n",
    "2. Apply a Hadamard transform to the first register\n",
    "3. Apply the query function $U_f$\n",
    "4. Measure the second register. A certain value of $f(x)$ will be observed. Because of the setting of the problem, the observed value $f(x)$ could correspond to two possible inputs: $x$ and $y=x \\otimes b$. \n",
    "5. Apply Hadamard on the first register\n",
    "6. Measure the first register"
   ]
  },
  {
   "cell_type": "markdown",
   "metadata": {},
   "source": [
    "## References"
   ]
  },
  {
   "cell_type": "markdown",
   "metadata": {},
   "source": [
    "1. Noson S. Yanofsky and Mirco A. Mannucci, ```Quantum Computing for Computer Scientists```, Cambridge University Press\n",
    "2. <a href=\"https://qiskit.org/textbook/ch-algorithms/simon.html\">Qiskit: Simon's algorithm</a>\n",
    "3. Abhijith J. et. al., ```Quantum Algorithm Implementations for Beginners```.\n",
    "4. <a href=\"https://en.wikipedia.org/wiki/Simon%27s_problem\">Simon's algorithm</a>"
   ]
  }
 ],
 "metadata": {
  "kernelspec": {
   "display_name": "Python 3",
   "language": "python",
   "name": "python3"
  },
  "language_info": {
   "codemirror_mode": {
    "name": "ipython",
    "version": 3
   },
   "file_extension": ".py",
   "mimetype": "text/x-python",
   "name": "python",
   "nbconvert_exporter": "python",
   "pygments_lexer": "ipython3",
   "version": "3.8.5"
  }
 },
 "nbformat": 4,
 "nbformat_minor": 4
}

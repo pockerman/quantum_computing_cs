{
 "cells": [
  {
   "cell_type": "markdown",
   "metadata": {},
   "source": [
    "# Shor's Algorithm"
   ]
  },
  {
   "cell_type": "markdown",
   "metadata": {},
   "source": [
    "* [Overview](#overview) \n",
    "* [Shor's  algorithm](#ekf)\n",
    "    * [The quantum part](#sub_sec_1)\n",
    "* [References](#refs)"
   ]
  },
  {
   "cell_type": "markdown",
   "metadata": {},
   "source": [
    "## <a name=\"overview\"></a> Overview"
   ]
  },
  {
   "cell_type": "markdown",
   "metadata": {},
   "source": [
    "Shor's algorithm is a polynomial-time quantum algorithm for integer factorization [1]. Informally, it solves the following problem: Given an integer $N$, find its prime factors. Strictly speaking the quantum part of the algorithm solves the problem of period finding [3]. It was invented in 1994 by the American mathematician Peter Shor [1]. "
   ]
  },
  {
   "cell_type": "markdown",
   "metadata": {},
   "source": [
    "## <a name=\"ekf\"></a>  Shor's algorithm"
   ]
  },
  {
   "cell_type": "markdown",
   "metadata": {},
   "source": [
    "Shor’s algorithm is based on the following fact: the factoring problem can be\n",
    "reduced to finding the period of a certain function [2]. That is we need to find the smallest $r$ such that [2]"
   ]
  },
  {
   "cell_type": "markdown",
   "metadata": {},
   "source": [
    "$$f_{\\alpha, N}(r) = \\alpha^r \\text{Mod} N = 1 $$"
   ]
  },
  {
   "cell_type": "markdown",
   "metadata": {},
   "source": [
    "Since the factoring problem can be turned into a period finding problem in polynomial time, having a period finding algorithm means it can be used to factor integers."
   ]
  },
  {
   "cell_type": "markdown",
   "metadata": {},
   "source": [
    "---\n",
    "**Remark**"
   ]
  },
  {
   "cell_type": "markdown",
   "metadata": {},
   "source": [
    "According to number theory, for any co-prime $\\alpha \\leq N$ the function $f_{\\alpha, N}(r)$ will give a 1 for some $r<N$. When this happens, the sequence of number will repeat [2].\n",
    "\n",
    "---"
   ]
  },
  {
   "cell_type": "markdown",
   "metadata": {},
   "source": [
    "Let's now turn attention to the quantum part of the algorithm."
   ]
  },
  {
   "cell_type": "markdown",
   "metadata": {},
   "source": [
    "### <a name=\"sub_sec_1\"></a> The quantum part"
   ]
  },
  {
   "cell_type": "markdown",
   "metadata": {},
   "source": [
    "The quantum part of Shor's algorithm effectively calculates the period of $f_{\\alpha, N}(r)$. The output of this function will always be less than $N$. Hence, we will nee $n=log_2 N$ output bits [2]. Further, we need to evaluate $f_{\\alpha, N}(r)$ for at least the first $N^2$ values of $x$ which means we will need $2n$ input qubits [2]"
   ]
  },
  {
   "cell_type": "markdown",
   "metadata": {},
   "source": [
    "$$2n = 2log N = log N^2 = m$$"
   ]
  },
  {
   "cell_type": "markdown",
   "metadata": {},
   "source": [
    "The following figure visualizes the circuit for period finding"
   ]
  },
  {
   "cell_type": "markdown",
   "metadata": {},
   "source": [
    " <figure>\n",
    "  <img src=\"../imgs/shors_circuit.png\" alt=\"Trulli\" style=\"width:50%\">\n",
    "  <figcaption>Figure 1. Visualization of period finding circuit. Image from [2]</figcaption>\n",
    "</figure> "
   ]
  },
  {
   "cell_type": "markdown",
   "metadata": {},
   "source": [
    "## References"
   ]
  },
  {
   "cell_type": "markdown",
   "metadata": {},
   "source": [
    "1. <a href=\"https://en.wikipedia.org/wiki/Shor%27s_algorithm\">Shor's algorithm</a>\n",
    "2. Noson S. Yanofsky and Mirco A. Mannucci, ```Quantum Computing for Computer Scientists```, Cambridge University Press\n",
    "3. <a href=\"https://qiskit.org/textbook/ch-algorithms/shor.html\">Qiskit: Shor's algorithm</a>\n",
    "4. Abhijith J. et. al., ```Quantum Algorithm Implementations for Beginners```.\n"
   ]
  }
 ],
 "metadata": {
  "kernelspec": {
   "display_name": "Python 3",
   "language": "python",
   "name": "python3"
  },
  "language_info": {
   "codemirror_mode": {
    "name": "ipython",
    "version": 3
   },
   "file_extension": ".py",
   "mimetype": "text/x-python",
   "name": "python",
   "nbconvert_exporter": "python",
   "pygments_lexer": "ipython3",
   "version": "3.8.5"
  }
 },
 "nbformat": 4,
 "nbformat_minor": 4
}

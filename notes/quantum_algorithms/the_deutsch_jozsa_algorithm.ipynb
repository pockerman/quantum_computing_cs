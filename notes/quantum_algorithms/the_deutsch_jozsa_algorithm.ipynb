{
 "cells": [
  {
   "cell_type": "markdown",
   "metadata": {},
   "source": [
    "# The Deutsch-Jozsa Algorithm"
   ]
  },
  {
   "cell_type": "markdown",
   "metadata": {},
   "source": [
    "* [Overview](#overview) \n",
    "* [The Deutsch-Jozsa algorithm](#ekf)\n",
    "* [References](#refs)"
   ]
  },
  {
   "cell_type": "markdown",
   "metadata": {},
   "source": [
    "## <a name=\"overview\"></a> Overview"
   ]
  },
  {
   "cell_type": "markdown",
   "metadata": {},
   "source": [
    "In this notebook we look at a genralization of the <a href=\"deutsch_algo.ipynb\">Deutsch's algorithm</a> we saw in the previous section. In particular, we will look at the <a href=\"https://en.wikipedia.org/wiki/Deutsch%E2%80%93Jozsa_algorithm\">Deutsch-Jozsa algorithm</a>. Just like the Deutsch's algorithm requires only one query to determine if an one-bit boolean function is constant or balanced, the Deutsch-Jozsa algorithm requires only  one query to detrmine that for an $n-$bit boolean function [2]. A nice explanation of the algorithm can be found at <a href=\"https://qiskit.org/textbook/ch-algorithms/deutsch-jozsa.html\">Deutsch-Jozsa Algorithm</a>."
   ]
  },
  {
   "cell_type": "markdown",
   "metadata": {},
   "source": [
    "## <a name=\"ekf\"></a>  The Deutsch-Jozsa algorithm"
   ]
  },
  {
   "cell_type": "markdown",
   "metadata": {},
   "source": [
    "Let's assume now that the boolean function we have is"
   ]
  },
  {
   "cell_type": "markdown",
   "metadata": {},
   "source": [
    "$$ f:\\{0,1\\}^n \\rightarrow \\{0,1\\}$$"
   ]
  },
  {
   "cell_type": "markdown",
   "metadata": {},
   "source": [
    "The function is called balanced if exactly half of the inputs are mapped to 0 and the other half to 1. It is called a constant if the inputs are all mapped either to 0 or 1 [1]. "
   ]
  },
  {
   "cell_type": "markdown",
   "metadata": {},
   "source": [
    "The Deutsch-Jozsa algorithm solves the following problem [1]:"
   ]
  },
  {
   "cell_type": "markdown",
   "metadata": {},
   "source": [
    "_Suppose we are given an $ f:\\{0,1\\}^n \\rightarrow \\{0,1\\}$. We can evaluate the function but we cannot see the way it is defined. Also assumed that we are assured that the function is either balanced or constant. Determine if the function is balanced or constant._"
   ]
  },
  {
   "cell_type": "markdown",
   "metadata": {},
   "source": [
    "Using a classical computer we need to do two evaluations of the function; one for each of the two inputs [1, 2]."
   ]
  },
  {
   "cell_type": "markdown",
   "metadata": {},
   "source": [
    "On the other hand, Deutsch's algorithm requires only a single call to a black box to solve the problem.  The key to the algorithm is the ability to place the second qubit of the input to the black box in a superposition [2]. Let's see how to do this."
   ]
  },
  {
   "cell_type": "markdown",
   "metadata": {},
   "source": [
    "Deutsch's algorithm works by putting both qubits representing the two inputs into a superposition [1]. The way to do this is using the Hadamard gate. The following image shows this schematically."
   ]
  },
  {
   "cell_type": "markdown",
   "metadata": {},
   "source": [
    " <figure>\n",
    "  <img src=\"../imgs/deutsch_algo.png\" alt=\"Trulli\" style=\"width:100%\">\n",
    "  <figcaption>Figure 1. Deutsch's algorithm circuit v1. Image from [1].</figcaption>\n",
    "</figure> "
   ]
  },
  {
   "cell_type": "markdown",
   "metadata": {},
   "source": [
    "The state of the system is as follows. Initially the system is a "
   ]
  },
  {
   "cell_type": "markdown",
   "metadata": {},
   "source": [
    "$$|\\psi \\rangle = |01\\rangle$$"
   ]
  },
  {
   "cell_type": "markdown",
   "metadata": {},
   "source": [
    "after the application of the Hadamard gates the syetm will be at"
   ]
  },
  {
   "cell_type": "markdown",
   "metadata": {},
   "source": [
    "$$|\\psi \\rangle = \\left[\\frac{|0\\rangle + |1\\rangle}{\\sqrt{2}}\\right]\\left[\\frac{|0\\rangle - |1\\rangle}{\\sqrt{2}}\\right]$$"
   ]
  },
  {
   "cell_type": "markdown",
   "metadata": {},
   "source": [
    "When we put the bottom qubit into a superposition and the multiply by $U_f$, it will be in the superposition [1]"
   ]
  },
  {
   "cell_type": "markdown",
   "metadata": {},
   "source": [
    "$$(-1)^{f(x)}|x \\rangle \\left[\\frac{|0\\rangle - |1\\rangle}{\\sqrt{2}}\\right]$$"
   ]
  },
  {
   "cell_type": "markdown",
   "metadata": {},
   "source": [
    "Thus now we will have that the state of the system will be [1]"
   ]
  },
  {
   "cell_type": "markdown",
   "metadata": {},
   "source": [
    "$$|\\psi \\rangle = \\left[ \\frac{(-1)^{f(0)}|0 \\rangle + (-1)^{f(1)}|1 \\rangle}{\\sqrt{2}}\\right]\\left[\\frac{|0\\rangle - |1\\rangle}{\\sqrt{2}}\\right]$$"
   ]
  },
  {
   "cell_type": "markdown",
   "metadata": {},
   "source": [
    "The actual state depends on the values of $f$ i.e. whether the function is balanced on constant as follows [1]"
   ]
  },
  {
   "cell_type": "markdown",
   "metadata": {},
   "source": [
    "$$|\\psi \\rangle =   \\begin{cases} (\\pm1) \\left[ \\frac{|0 \\rangle + |1 \\rangle}{\\sqrt{2}}\\right]\\left[\\frac{|0\\rangle - |1\\rangle}{\\sqrt{2}}\\right]  \\\\\n",
    "(\\pm1) \\left[ \\frac{|0 \\rangle - |1 \\rangle}{\\sqrt{2}}\\right]\\left[\\frac{|0\\rangle - |1\\rangle}{\\sqrt{2}}\\right]\\end{cases}$$"
   ]
  },
  {
   "cell_type": "markdown",
   "metadata": {},
   "source": [
    "Recall that the Hadamard matrix is its own inverse. Thus applying it to the top qubit we get [1]"
   ]
  },
  {
   "cell_type": "markdown",
   "metadata": {},
   "source": [
    "$$|\\psi \\rangle =   \\begin{cases} (\\pm1) |0 \\rangle \\left[\\frac{|0\\rangle - |1\\rangle}{\\sqrt{2}}\\right]  \\\\\n",
    "(\\pm1) |1 \\rangle \\left[\\frac{|0\\rangle - |1\\rangle}{\\sqrt{2}}\\right]\\end{cases}$$"
   ]
  },
  {
   "cell_type": "markdown",
   "metadata": {},
   "source": [
    "Now, we simply measure the top qubit. If it is in state $|0\\rangle$, then we know that f is a constant function [1]. This was all accomplished with\n",
    "only one function evaluation."
   ]
  },
  {
   "cell_type": "markdown",
   "metadata": {},
   "source": [
    "---\n",
    "**Remark**"
   ]
  },
  {
   "cell_type": "markdown",
   "metadata": {},
   "source": [
    "the $\\pm 1$ gives us more information; which of\n",
    "the two balanced functions or two constant functions we have. However, measurement will\n",
    "not give back  this information [1]. Upon measuring, if the function is balanced, we will\n",
    "measure $|1\\rangle$ regardless if the state was $(−1)|1\\rangle$ or $(+1)|1\\rangle$.\n",
    "\n",
    "---"
   ]
  },
  {
   "cell_type": "markdown",
   "metadata": {},
   "source": [
    "There is a nice explanation on the intuition behind Deutsch's algorithm in [1]:"
   ]
  },
  {
   "cell_type": "markdown",
   "metadata": {},
   "source": [
    "---"
   ]
  },
  {
   "cell_type": "markdown",
   "metadata": {},
   "source": [
    "## References"
   ]
  },
  {
   "cell_type": "markdown",
   "metadata": {},
   "source": [
    "1. Noson S. Yanofsky and Mirco A. Mannucci, ```Quantum Computing for Computer Scientists```, Cambridge University Press\n",
    "2. Jack D. Hidary, ```Quantum Computing: An Applied Approach```, Springer."
   ]
  }
 ],
 "metadata": {
  "kernelspec": {
   "display_name": "Python 3",
   "language": "python",
   "name": "python3"
  },
  "language_info": {
   "codemirror_mode": {
    "name": "ipython",
    "version": 3
   },
   "file_extension": ".py",
   "mimetype": "text/x-python",
   "name": "python",
   "nbconvert_exporter": "python",
   "pygments_lexer": "ipython3",
   "version": "3.8.5"
  }
 },
 "nbformat": 4,
 "nbformat_minor": 4
}

{
 "cells": [
  {
   "cell_type": "markdown",
   "metadata": {},
   "source": [
    "# Grover's Algorithm"
   ]
  },
  {
   "cell_type": "markdown",
   "metadata": {},
   "source": [
    "* [Overview](#overview) \n",
    "* [Grover's  algorithm](#ekf)\n",
    "* [References](#refs)"
   ]
  },
  {
   "cell_type": "markdown",
   "metadata": {},
   "source": [
    "## <a name=\"overview\"></a> Overview"
   ]
  },
  {
   "cell_type": "markdown",
   "metadata": {},
   "source": [
    "Searching within a set of $N$ randomly ordered items for a specific item is a frequent operation in scientific computing, databases and so forth. On a classical machine this is an operation of complexity of $O(N)$. Grover's algorithm is a quantum algorithm that finds with high probability, i.e. $p > 1/2$ the unique input to a black box function that produces a particular output value, using $O(\\sqrt{ N })$ evaluations of the function [4].  It was devised by Lov Grover in 1996 [4]. The algorithm hence has quadratic speedup over classical search. Furthermore, it is optimal in the sense that no <a href=\"https://en.wikipedia.org/wiki/Quantum_Turing_machine\">quantum Turing machine</a>  can do this in less than  $O(\\sqrt{ N })$ [3]."
   ]
  },
  {
   "cell_type": "markdown",
   "metadata": {},
   "source": [
    "The following video from Quantum Academy provides a nice explanation of the algorithm. Furthermore, a discussion on the algorithm can be found at qiskit documentation <a href=\"https://qiskit.org/textbook/ch-algorithms/grover.html\">Grover's Algorithm</a>\n"
   ]
  },
  {
   "cell_type": "code",
   "execution_count": 3,
   "metadata": {},
   "outputs": [],
   "source": [
    "from IPython.display import YouTubeVideo\n"
   ]
  },
  {
   "cell_type": "code",
   "execution_count": 2,
   "metadata": {},
   "outputs": [
    {
     "data": {
      "image/jpeg": "[encoded data removed]",
      "text/html": [
       "\n",
       "        <iframe\n",
       "            width=\"500\"\n",
       "            height=\"300\"\n",
       "            src=\"https://www.youtube.com/embed/IT-O-KSWlaE\"\n",
       "            frameborder=\"0\"\n",
       "            allowfullscreen\n",
       "        ></iframe>\n",
       "        "
      ],
      "text/plain": [
       "<IPython.lib.display.YouTubeVideo at 0x7f9fd081eee0>"
      ]
     },
     "execution_count": 2,
     "metadata": {},
     "output_type": "execute_result"
    }
   ],
   "source": [
    "YouTubeVideo('IT-O-KSWlaE', width=500, height=300)"
   ]
  },
  {
   "cell_type": "markdown",
   "metadata": {},
   "source": [
    "## <a name=\"ekf\"></a>  Grover's algorithm"
   ]
  },
  {
   "cell_type": "markdown",
   "metadata": {},
   "source": [
    "Let's assum that we are given a set of items. We want to find an item that satisfies a certain criterion or predicate. Let's denote this predicate as $f$. Then we want to find the element $x$ such that"
   ]
  },
  {
   "cell_type": "markdown",
   "metadata": {},
   "source": [
    "$$f(x) = 1$$"
   ]
  },
  {
   "cell_type": "markdown",
   "metadata": {},
   "source": [
    "Let's call that particular element for which the above holds with $x^*$"
   ]
  },
  {
   "cell_type": "markdown",
   "metadata": {},
   "source": [
    "An operator, called the Grover operator or the diffusion operator, is\n",
    "the key piece of machinery in Grover’s algorithm. This operator is defined by"
   ]
  },
  {
   "cell_type": "markdown",
   "metadata": {},
   "source": [
    "---\n",
    "**Phase Inversion**"
   ]
  },
  {
   "cell_type": "markdown",
   "metadata": {},
   "source": [
    "The first trick that Grover's algorithm is using is called phase inversion. The algorithm maintains some superposition of all states"
   ]
  },
  {
   "cell_type": "markdown",
   "metadata": {},
   "source": [
    "$$\\sum_{x}\\alpha_x |x\\rangle$$"
   ]
  },
  {
   "cell_type": "markdown",
   "metadata": {},
   "source": [
    "and it does so per iteration. What the phase inversion trick does is to take the above superposition and for every $x \\neq x^*$ it just leaves it as is it performs the following"
   ]
  },
  {
   "cell_type": "markdown",
   "metadata": {},
   "source": [
    "$$\\sum_{x \\neq x}\\alpha_x |x\\rangle$$"
   ]
  },
  {
   "cell_type": "markdown",
   "metadata": {},
   "source": [
    "however for $x = x^*$ we will replace it with the inverse "
   ]
  },
  {
   "cell_type": "markdown",
   "metadata": {},
   "source": [
    "$$\\alpha_{x^{*}} |x^*\\rangle \\rightarrow - \\alpha_{x^*}|x^*\\rangle$$"
   ]
  },
  {
   "cell_type": "code",
   "execution_count": 1,
   "metadata": {},
   "outputs": [
    {
     "data": {
      "image/jpeg": "[encoded data removed]",
      "text/html": [
       "\n",
       "        <iframe\n",
       "            width=\"800\"\n",
       "            height=\"300\"\n",
       "            src=\"https://www.youtube.com/embed/JbAwuRA__Ec\"\n",
       "            frameborder=\"0\"\n",
       "            allowfullscreen\n",
       "        ></iframe>\n",
       "        "
      ],
      "text/plain": [
       "<IPython.lib.display.YouTubeVideo at 0x7f2ff15096d0>"
      ]
     },
     "execution_count": 1,
     "metadata": {},
     "output_type": "execute_result"
    }
   ],
   "source": [
    "from IPython.display import YouTubeVideo\n",
    "\n",
    "YouTubeVideo('JbAwuRA__Ec', width=800, height=300)"
   ]
  },
  {
   "cell_type": "markdown",
   "metadata": {},
   "source": [
    "Changing the\n",
    "phase from positive to negative separates the phases, but does not separate them\n",
    "enough. In order to reinforce that the algorithm uses inversion about the mean [1]"
   ]
  },
  {
   "cell_type": "markdown",
   "metadata": {},
   "source": [
    "---\n",
    "**Inversion About The Mean** "
   ]
  },
  {
   "cell_type": "markdown",
   "metadata": {},
   "source": [
    "The second trick used in Grover's algorithm is the so called inversion about the mean. Let's consider the "
   ]
  },
  {
   "cell_type": "markdown",
   "metadata": {},
   "source": [
    "---"
   ]
  },
  {
   "cell_type": "markdown",
   "metadata": {},
   "source": [
    "The inversion about the mean operation can be written in terms of matrices as [1]"
   ]
  },
  {
   "cell_type": "markdown",
   "metadata": {},
   "source": [
    "$$(-I + 2A)$$"
   ]
  },
  {
   "cell_type": "markdown",
   "metadata": {},
   "source": [
    "where $A$ is a square matrix with entries $A_{ij} = 1/n$ where $n$ is the number elements."
   ]
  },
  {
   "cell_type": "markdown",
   "metadata": {},
   "source": [
    " <figure>\n",
    "  <img src=\"../imgs/deutsch_algo.png\" alt=\"Trulli\" style=\"width:100%\">\n",
    "  <figcaption>Figure 1. Deutsch's algorithm circuit v1. Image from [1].</figcaption>\n",
    "</figure> "
   ]
  },
  {
   "cell_type": "code",
   "execution_count": null,
   "metadata": {},
   "outputs": [],
   "source": []
  },
  {
   "cell_type": "markdown",
   "metadata": {},
   "source": [
    "The step's of the algorithm are as follows [1]"
   ]
  },
  {
   "cell_type": "markdown",
   "metadata": {},
   "source": [
    "1. Start with a state $| \\mathbf{0}\\rangle$\n",
    "2. Apply $H^{\\otimes n}$\n",
    "3. Repeat $\\sqrt{2^n}$ times\n",
    "    - Apply the phase inversion operation $U_f(I \\otimes H)$\n",
    "    - Apply the inversion about the mean operation $-I + 2A$\n",
    "4. Measure the qubits"
   ]
  },
  {
   "cell_type": "code",
   "execution_count": null,
   "metadata": {},
   "outputs": [],
   "source": []
  },
  {
   "cell_type": "markdown",
   "metadata": {},
   "source": [
    "## References"
   ]
  },
  {
   "cell_type": "markdown",
   "metadata": {},
   "source": [
    "1. Noson S. Yanofsky and Mirco A. Mannucci, ```Quantum Computing for Computer Scientists```, Cambridge University Press\n",
    "2. Eleanor Rieffel, Wolfgang Polak, ```Quantum Computing: A Gentle Introduction```, The MIT Press.\n",
    "3. ABHIJITH J. et. al., ```Quantum Algorithm Implementations for Beginners```\n",
    "4. <a href=\"https://en.wikipedia.org/wiki/Grover%27s_algorithm\">Grover's algorithm</a>"
   ]
  }
 ],
 "metadata": {
  "kernelspec": {
   "display_name": "Python 3",
   "language": "python",
   "name": "python3"
  },
  "language_info": {
   "codemirror_mode": {
    "name": "ipython",
    "version": 3
   },
   "file_extension": ".py",
   "mimetype": "text/x-python",
   "name": "python",
   "nbconvert_exporter": "python",
   "pygments_lexer": "ipython3",
   "version": "3.8.5"
  }
 },
 "nbformat": 4,
 "nbformat_minor": 4
}

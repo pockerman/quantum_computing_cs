{
 "cells": [
  {
   "cell_type": "markdown",
   "metadata": {},
   "source": [
    "# Deutsch's Algorithm"
   ]
  },
  {
   "cell_type": "markdown",
   "metadata": {},
   "source": [
    "## Contents"
   ]
  },
  {
   "cell_type": "markdown",
   "metadata": {},
   "source": [
    "* [Overview](#overview) \n",
    "* [Deutsch's algorithm](#ekf)\n",
    "* [References](#refs)"
   ]
  },
  {
   "cell_type": "markdown",
   "metadata": {},
   "source": [
    "## <a name=\"overview\"></a> Overview"
   ]
  },
  {
   "cell_type": "markdown",
   "metadata": {},
   "source": [
    "Perhaps the simplest quantum algorithm is <a href=\"https://en.wikipedia.org/wiki/Deutsch%E2%80%93Jozsa_algorithm\">Deutsch's algorithm</a>. It solves a black box problem. The algorithm, can solve the problem with fewer calls to the black box than is possible on a classical machine [1]. So what this problem is all about?"
   ]
  },
  {
   "cell_type": "markdown",
   "metadata": {},
   "source": [
    "## <a name=\"ekf\"></a> Deutsch's algorithm"
   ]
  },
  {
   "cell_type": "markdown",
   "metadata": {},
   "source": [
    "Deutsch's problem is the following, see [1], "
   ]
  },
  {
   "cell_type": "markdown",
   "metadata": {},
   "source": [
    "_Given a boolean function $f:\\{0,1\\} \\rightarrow \\{0,1\\}$ determine if $f$ is constant._"
   ]
  },
  {
   "cell_type": "markdown",
   "metadata": {},
   "source": [
    "A function is called constant if $f(0) = f(1)$. On the other hand, if $f$ is one to one, is called balanced [1]. In order to determine if $f$ is constant we are not know how the function is defined."
   ]
  },
  {
   "cell_type": "markdown",
   "metadata": {},
   "source": [
    "Using a classical computer we need to do two evaluations of the function; one for each of the two inputs [1, 2]."
   ]
  },
  {
   "cell_type": "markdown",
   "metadata": {},
   "source": [
    "On the other hand, Deutsch's algorithm requires only a single call to a black box to solve the problem.  The key to the algorithm is the ability to place the second qubit of the input to the black box in a superposition [2]. Let's see how to do this."
   ]
  },
  {
   "cell_type": "markdown",
   "metadata": {},
   "source": [
    "Deutsch's algorithm works by putting both qubits representing the two inputs into a superposition [1]. The way to do this is using the Hadamard gate. The following image shows this schematically."
   ]
  },
  {
   "cell_type": "markdown",
   "metadata": {},
   "source": [
    " <figure>\n",
    "  <img src=\"../imgs/deutsch_algo.png\" alt=\"Trulli\" style=\"width:100%\">\n",
    "  <figcaption>Figure 1. Deutsch's algorithm circuit v1. Image from [1].</figcaption>\n",
    "</figure> "
   ]
  },
  {
   "cell_type": "markdown",
   "metadata": {},
   "source": [
    "The state of the system is as follows. Initially the system is a "
   ]
  },
  {
   "cell_type": "markdown",
   "metadata": {},
   "source": [
    "$$|\\psi \\rangle = |01\\rangle$$"
   ]
  },
  {
   "cell_type": "markdown",
   "metadata": {},
   "source": [
    "after the application of the Hadamard gates the syetm will be at"
   ]
  },
  {
   "cell_type": "markdown",
   "metadata": {},
   "source": [
    "$$|\\psi \\rangle = \\left[\\frac{|0\\rangle + |1\\rangle}{\\sqrt{2}}\\right]\\left[\\frac{|0\\rangle - |1\\rangle}{\\sqrt{2}}\\right]$$"
   ]
  },
  {
   "cell_type": "markdown",
   "metadata": {},
   "source": [
    "When we put the bottom qubit into a superposition and the multiply by $U_f$, it will be in the superposition [1]"
   ]
  },
  {
   "cell_type": "markdown",
   "metadata": {},
   "source": [
    "$$(-1)^{f(x)}|x \\rangle \\left[\\frac{|0\\rangle - |1\\rangle}{\\sqrt{2}}\\right]$$"
   ]
  },
  {
   "cell_type": "markdown",
   "metadata": {},
   "source": [
    "Thus now we will have that the state of the system will be [1]"
   ]
  },
  {
   "cell_type": "markdown",
   "metadata": {},
   "source": [
    "$$|\\psi \\rangle = \\left[ \\frac{(-1)^{f(0)}|0 \\rangle + (-1)^{f(1)}|1 \\rangle}{\\sqrt{2}}\\right]\\left[\\frac{|0\\rangle - |1\\rangle}{\\sqrt{2}}\\right]$$"
   ]
  },
  {
   "cell_type": "markdown",
   "metadata": {},
   "source": [
    "The actual state depends on the values of $f$ i.e. whether the function is balanced on constant as follows [1]"
   ]
  },
  {
   "cell_type": "markdown",
   "metadata": {},
   "source": [
    "$$|\\psi \\rangle =   \\begin{cases} (\\pm1) \\left[ \\frac{|0 \\rangle + |1 \\rangle}{\\sqrt{2}}\\right]\\left[\\frac{|0\\rangle - |1\\rangle}{\\sqrt{2}}\\right]  \\\\\n",
    "(\\pm1) \\left[ \\frac{|0 \\rangle - |1 \\rangle}{\\sqrt{2}}\\right]\\left[\\frac{|0\\rangle - |1\\rangle}{\\sqrt{2}}\\right]\\end{cases}$$"
   ]
  },
  {
   "cell_type": "markdown",
   "metadata": {},
   "source": [
    "Recall that the Hadamard matrix is its own inverse. Thus applying it to the top qubit we get [1]"
   ]
  },
  {
   "cell_type": "markdown",
   "metadata": {},
   "source": [
    "$$|\\psi \\rangle =   \\begin{cases} (\\pm1) |0 \\rangle \\left[\\frac{|0\\rangle - |1\\rangle}{\\sqrt{2}}\\right]  \\\\\n",
    "(\\pm1) |1 \\rangle \\left[\\frac{|0\\rangle - |1\\rangle}{\\sqrt{2}}\\right]\\end{cases}$$"
   ]
  },
  {
   "cell_type": "markdown",
   "metadata": {},
   "source": [
    "Now, we simply measure the top qubit. If it is in state $|0\\rangle$, then we know that f is a constant function [1]. This was all accomplished with\n",
    "only one function evaluation."
   ]
  },
  {
   "cell_type": "markdown",
   "metadata": {},
   "source": [
    "---\n",
    "**Remark**"
   ]
  },
  {
   "cell_type": "markdown",
   "metadata": {},
   "source": [
    "the $\\pm 1$ gives us more information; which of\n",
    "the two balanced functions or two constant functions we have. However, measurement will\n",
    "not give back  this information [1]. Upon measuring, if the function is balanced, we will\n",
    "measure $|1\\rangle$ regardless if the state was $(−1)|1\\rangle$ or $(+1)|1\\rangle$.\n",
    "\n",
    "---"
   ]
  },
  {
   "cell_type": "markdown",
   "metadata": {},
   "source": [
    "There is a nice explanation on the intuition behind Deutsch's algorithm in [1]:"
   ]
  },
  {
   "cell_type": "markdown",
   "metadata": {},
   "source": [
    "---"
   ]
  },
  {
   "cell_type": "markdown",
   "metadata": {},
   "source": [
    "_Did we perform a magic trick here? Did we gain information that was not there?\n",
    "Not really. There are four possible functions, and we saw in decision tree (6.2) that\n",
    "with a classical computer we needed two bits of information to determine which of\n",
    "the four functions we were given. What we are really doing here is changing around\n",
    "the information. We might determine which of the four functions is the case by ask-\n",
    "ing the following two questions: “Is the function balanced or constant?” and “What is the value of the function on 0?” The answers to these two questions uniquely\n",
    "describe each of the four functions, as described by the following decision tree:_ "
   ]
  },
  {
   "cell_type": "markdown",
   "metadata": {},
   "source": [
    " <figure>\n",
    "  <img src=\"../imgs/deutsch_tree.png\" alt=\"Trulli\" style=\"width:100%\">\n",
    "  <figcaption>Figure 2. Deutsch's algorithm decision tree. Image from [1].</figcaption>\n",
    "</figure> "
   ]
  },
  {
   "cell_type": "markdown",
   "metadata": {},
   "source": [
    "_The Hadamard matrices are changing the question that we are asking (change\n",
    "of basis). The intuition behind the Deutsch algorithm is that we are really just performing a change of basis problem {..}. We might rewrite quantum circuit as_"
   ]
  },
  {
   "cell_type": "markdown",
   "metadata": {},
   "source": [
    " <figure>\n",
    "  <img src=\"../imgs/deutsch_algo_2.png\" alt=\"Trulli\" style=\"width:100%\">\n",
    "  <figcaption>Figure 3. Deutsch's algorithm circuit v2. Image from [1].</figcaption>\n",
    "</figure> "
   ]
  },
  {
   "cell_type": "markdown",
   "metadata": {},
   "source": [
    "_We start in the canonical basis. The first Hadamard matrix is used as a change\n",
    "of basis matrix to go into a balanced superposition of basic states. While in this\n",
    "noncanonical basis, we evaluate $f$ with the bottom qubit in a superposition. The last\n",
    "Hadamard matrix is used as a change of basis matrix to revert back to the canonical\n",
    "basis._"
   ]
  },
  {
   "cell_type": "markdown",
   "metadata": {},
   "source": [
    "---"
   ]
  },
  {
   "cell_type": "markdown",
   "metadata": {},
   "source": [
    "## References"
   ]
  },
  {
   "cell_type": "markdown",
   "metadata": {},
   "source": [
    "1. Noson S. Yanofsky and Mirco A. Mannucci, ```Quantum Computing for Computer Scientists```, Cambridge University Press\n",
    "2. Eleanor Rieffel, Wolfgang Polak, ```Quantum Computing: A Gentle Introduction```, The MIT Press.\n",
    "3. <a href=\"https://en.wikipedia.org/wiki/Deutsch%E2%80%93Jozsa_algorithm\">Deutsch's algorithm</a>"
   ]
  }
 ],
 "metadata": {
  "kernelspec": {
   "display_name": "Python 3",
   "language": "python",
   "name": "python3"
  },
  "language_info": {
   "codemirror_mode": {
    "name": "ipython",
    "version": 3
   },
   "file_extension": ".py",
   "mimetype": "text/x-python",
   "name": "python",
   "nbconvert_exporter": "python",
   "pygments_lexer": "ipython3",
   "version": "3.8.5"
  }
 },
 "nbformat": 4,
 "nbformat_minor": 4
}

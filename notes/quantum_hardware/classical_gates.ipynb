{
 "cells": [
  {
   "cell_type": "markdown",
   "metadata": {},
   "source": [
    "# Classical Gates"
   ]
  },
  {
   "cell_type": "markdown",
   "metadata": {},
   "source": [
    "* [Overview](#overview) \n",
    "* [Classical gates](#ekf)\n",
    "    * [_NOT_ gate](#sub_sect_1)\n",
    "    * [_AND_ gate](#sub_sect_2)\n",
    "    * [_OR_ gate](#sub_sect_3)\n",
    "    * [_NAND_ gate](#sub_sect_4)\n",
    "* [References](#refs)"
   ]
  },
  {
   "cell_type": "markdown",
   "metadata": {},
   "source": [
    "## <a name=\"overview\"></a> Overview"
   ]
  },
  {
   "cell_type": "markdown",
   "metadata": {},
   "source": [
    "In classical computing we manipulate bits using logical gates. Bits enter the gate and exit it some times transformed.  In this section, we will review classical gates. Basic logic gates are [2]:"
   ]
  },
  {
   "cell_type": "markdown",
   "metadata": {},
   "source": [
    "- _AND_ gate\n",
    "- _OR_ gate\n",
    "- _NOT_ gate\n",
    "- _NAND_ gate\n",
    "- _NOR_ gate"
   ]
  },
  {
   "cell_type": "markdown",
   "metadata": {},
   "source": [
    "Logic gates can be understood with the help of <a href=\"https://en.wikipedia.org/wiki/Truth_table\">truth tables</a>"
   ]
  },
  {
   "cell_type": "markdown",
   "metadata": {},
   "source": [
    "## <a name=\"ekf\"></a> Classical gates"
   ]
  },
  {
   "cell_type": "markdown",
   "metadata": {},
   "source": [
    "In this section, we will review classical gates. In particular, we will have a look at the following logic gates."
   ]
  },
  {
   "cell_type": "markdown",
   "metadata": {},
   "source": [
    "- _AND_ gate\n",
    "- _OR_ gate\n",
    "- _NOT_ gate\n",
    "- _NAND_ gate\n",
    "- _NOR_ gate"
   ]
  },
  {
   "cell_type": "markdown",
   "metadata": {},
   "source": [
    "In order to undertand the functionality of logic gates we can draw truth tables. "
   ]
  },
  {
   "cell_type": "markdown",
   "metadata": {},
   "source": [
    "---\n",
    "**Truth Table**"
   ]
  },
  {
   "cell_type": "markdown",
   "metadata": {},
   "source": [
    "_A truth table is a mathematical table used in logic. Specifically in connection with Boolean algebra, boolean functions, and propositional calculus which sets out the functional values of logical expressions on each of their functional arguments, that is, for each combination of values taken by their logical variables. In particular, truth tables can be used to show whether a propositional expression is true for all legitimate input values, that is, logically valid._ [3] \n",
    "\n",
    "---"
   ]
  },
  {
   "cell_type": "markdown",
   "metadata": {},
   "source": [
    "### <a name=\"sub_sect_1\"></a> _NOT_ gate"
   ]
  },
  {
   "cell_type": "markdown",
   "metadata": {},
   "source": [
    "Perhaps the simplest gate to understand is the negation or _NOT_ gate. The _NOT_ gate diagram is shwon in the image below"
   ]
  },
  {
   "cell_type": "markdown",
   "metadata": {},
   "source": [
    " <figure>\n",
    "  <img src=\"../imgs/not_gate.png\" alt=\"Trulli\" style=\"width:30%\">\n",
    "  <figcaption>Figure 1: NOT gate diagram. Image from [7]</figcaption>\n",
    "</figure> "
   ]
  },
  {
   "cell_type": "markdown",
   "metadata": {},
   "source": [
    "The gate accepts as an input one bit and outputs its negation. Thus, the 0 becomes 1 and vice-versa. The following figure shows the truth table for the gate"
   ]
  },
  {
   "cell_type": "markdown",
   "metadata": {},
   "source": [
    " <figure>\n",
    "  <img src=\"../imgs/not_gate_table.png\" alt=\"Trulli\" style=\"width:20%\">\n",
    "  <figcaption>Figure 2: NOT gate truth table. Image from [7]</figcaption>\n",
    "</figure>"
   ]
  },
  {
   "cell_type": "markdown",
   "metadata": {},
   "source": [
    "We can represent this as a matrix as follows [1]"
   ]
  },
  {
   "cell_type": "markdown",
   "metadata": {},
   "source": [
    "$$NOT = \\begin{bmatrix}0 && 1 \\\\ 1 && 0\\end{bmatrix}$$"
   ]
  },
  {
   "cell_type": "markdown",
   "metadata": {},
   "source": [
    "Recall that we can represent the 0 bit as a two dimensional vector i.e."
   ]
  },
  {
   "cell_type": "markdown",
   "metadata": {},
   "source": [
    "$$|0\\rangle = \\begin{bmatrix}1 \\\\ 0 \\end{bmatrix}$$"
   ]
  },
  {
   "cell_type": "markdown",
   "metadata": {},
   "source": [
    "Multiplication of this vector, with the NOT matrix above gives us"
   ]
  },
  {
   "cell_type": "markdown",
   "metadata": {},
   "source": [
    "$$NOT|0\\rangle = |1\\rangle = \\begin{bmatrix}0 \\\\ 1 \\end{bmatrix}$$"
   ]
  },
  {
   "cell_type": "markdown",
   "metadata": {},
   "source": [
    "We can do the same with the 1 bit."
   ]
  },
  {
   "cell_type": "markdown",
   "metadata": {},
   "source": [
    "### <a name=\"sub_sect_2\"></a> _AND_ gate"
   ]
  },
  {
   "cell_type": "markdown",
   "metadata": {},
   "source": [
    "The _AND_ gate accepts two bits and outputs their combination.  "
   ]
  },
  {
   "cell_type": "markdown",
   "metadata": {},
   "source": [
    " <figure>\n",
    "  <img src=\"../imgs/and_gate.png\" alt=\"Trulli\" style=\"width:20%\">\n",
    "  <figcaption>Figure 2: AND gate diagram. Image from [4]</figcaption>\n",
    "</figure> "
   ]
  },
  {
   "cell_type": "markdown",
   "metadata": {},
   "source": [
    "The truth table for the gate is shown below"
   ]
  },
  {
   "cell_type": "markdown",
   "metadata": {},
   "source": [
    " <figure>\n",
    "  <img src=\"../imgs/and_gate_table.png\" alt=\"Trulli\" style=\"width:20%\">\n",
    "  <figcaption>Figure 3: AND gate truth table. Image from [4]</figcaption>\n",
    "</figure> "
   ]
  },
  {
   "cell_type": "markdown",
   "metadata": {},
   "source": [
    "We can write this in matrix form as [1]"
   ]
  },
  {
   "cell_type": "markdown",
   "metadata": {},
   "source": [
    "$$AND = \\begin{bmatrix}1 && 1 && 1 && 0 \\\\ 0 && 0 && 0 && 1\\end{bmatrix}$$"
   ]
  },
  {
   "cell_type": "markdown",
   "metadata": {},
   "source": [
    "### <a name=\"sub_sect_3\"></a> _OR_ gate "
   ]
  },
  {
   "cell_type": "markdown",
   "metadata": {},
   "source": [
    "The _OR_ gate also accepts two bits and outputs their combination.  "
   ]
  },
  {
   "cell_type": "markdown",
   "metadata": {},
   "source": [
    " <figure>\n",
    "  <img src=\"../imgs/or_gate.png\" alt=\"Trulli\" style=\"width:20%\">\n",
    "  <figcaption>Figure 4: OR gate diagram. Image from [5]</figcaption>\n",
    "</figure> "
   ]
  },
  {
   "cell_type": "markdown",
   "metadata": {},
   "source": [
    "The truth table for the gate is shown in the image below"
   ]
  },
  {
   "cell_type": "markdown",
   "metadata": {},
   "source": [
    " <figure>\n",
    "  <img src=\"../imgs/or_gate_table.png\" alt=\"Trulli\" style=\"width:20%\">\n",
    "  <figcaption>Figure 5: OR gate truth table. Image from [5]</figcaption>\n",
    "</figure> "
   ]
  },
  {
   "cell_type": "markdown",
   "metadata": {},
   "source": [
    "We can write this in matrix form as [1]"
   ]
  },
  {
   "cell_type": "markdown",
   "metadata": {},
   "source": [
    "$$OR = \\begin{bmatrix}1 && 0 && 0 && 0 \\\\ 0 && 1 && 1 && 1\\end{bmatrix}$$"
   ]
  },
  {
   "cell_type": "markdown",
   "metadata": {},
   "source": [
    "### <a name=\"sub_sect_4\"></a> _NAND_ gate"
   ]
  },
  {
   "cell_type": "markdown",
   "metadata": {},
   "source": [
    "The NAND gate is really the AND gate followed by the NOT gate [1]. The diagram of the gate is shown below"
   ]
  },
  {
   "cell_type": "markdown",
   "metadata": {},
   "source": [
    " <figure>\n",
    "  <img src=\"../imgs/nand_gate.png\" alt=\"Trulli\" style=\"width:20%\">\n",
    "  <figcaption>Figure 6: NAND gate diagram. Image from [6]</figcaption>\n",
    "</figure> "
   ]
  },
  {
   "cell_type": "markdown",
   "metadata": {},
   "source": [
    "The truth table for the gate is shown in the image below"
   ]
  },
  {
   "cell_type": "markdown",
   "metadata": {},
   "source": [
    " <figure>\n",
    "  <img src=\"../imgs/nand_gate_table.png\" alt=\"Trulli\" style=\"width:20%\">\n",
    "  <figcaption>Figure 7: NAND gate truth table. Image from [6]</figcaption>\n",
    "</figure> "
   ]
  },
  {
   "cell_type": "markdown",
   "metadata": {},
   "source": [
    "We can write this as [1]"
   ]
  },
  {
   "cell_type": "markdown",
   "metadata": {},
   "source": [
    "$$NAND = \\begin{bmatrix}0 && 0 && 0 && 1 \\\\ 1 && 1 && 1 && 0\\end{bmatrix}$$"
   ]
  },
  {
   "cell_type": "markdown",
   "metadata": {},
   "source": [
    "## <a name=\"refs\"></a> References"
   ]
  },
  {
   "cell_type": "markdown",
   "metadata": {},
   "source": [
    "1. Noson S. Yanofsky and Mirco A. Mannucci, ```Quantum Computing for Computer Scientists```, Cambridge University Press.\n",
    "2. <a href=\"http://www.ee.surrey.ac.uk/Projects/CAL/digital-logic/gatesfunc/index.html\">Basic logic gates</a>\n",
    "3. <a href=\"https://en.wikipedia.org/wiki/Truth_table\">Truth tables</a>\n",
    "4. <a herf=\"https://en.wikipedia.org/wiki/AND_gate\">AND gate</a>\n",
    "5. <a href=\"https://en.wikipedia.org/wiki/OR_gate\">OR gate</a>\n",
    "6. <a href=\"https://en.wikipedia.org/wiki/NAND_gate\">NAND gate</a>\n",
    "7. <a href=\"https://en.wikipedia.org/wiki/Inverter_(logic_gate)\"> NOT gate</a>"
   ]
  }
 ],
 "metadata": {
  "kernelspec": {
   "display_name": "Python 3",
   "language": "python",
   "name": "python3"
  },
  "language_info": {
   "codemirror_mode": {
    "name": "ipython",
    "version": 3
   },
   "file_extension": ".py",
   "mimetype": "text/x-python",
   "name": "python",
   "nbconvert_exporter": "python",
   "pygments_lexer": "ipython3",
   "version": "3.8.5"
  }
 },
 "nbformat": 4,
 "nbformat_minor": 4
}

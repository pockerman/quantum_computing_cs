{
 "cells": [
  {
   "cell_type": "markdown",
   "metadata": {},
   "source": [
    "# Toffoli Gate"
   ]
  },
  {
   "cell_type": "markdown",
   "metadata": {},
   "source": [
    "* [Overview](#overview) \n",
    "* [Toffoli gate](#ekf)\n",
    "* [References](#refs)"
   ]
  },
  {
   "cell_type": "markdown",
   "metadata": {},
   "source": [
    "## <a name=\"overview\"></a> Overview"
   ]
  },
  {
   "cell_type": "markdown",
   "metadata": {},
   "source": [
    "The Toffoli gate, or _CCNOT_ gate, was invented by Tommaso Toffoli [2]. It is a universal reversible logic gate, which means that any reversible circuit can be constructed from Toffoli gates [2]. It is also known as the controlled-controlled-not gate, which describes its action. It has 3-bit inputs and outputs; if the first two bits are both set to 1, it inverts the third bit, otherwise all bits stay the same. "
   ]
  },
  {
   "cell_type": "markdown",
   "metadata": {},
   "source": [
    "## <a name=\"ekf\"></a> _CCNOT_ gate"
   ]
  },
  {
   "cell_type": "markdown",
   "metadata": {},
   "source": [
    "The Toffoli gate has three inputs and three outputs. The schematics of the gate is shown in the figure below"
   ]
  },
  {
   "cell_type": "markdown",
   "metadata": {},
   "source": [
    " <figure>\n",
    "  <img src=\"../imgs/toffoli_gate.png\" alt=\"Trulli\" style=\"width:30%\">\n",
    "  <figcaption>Figure 1: Toffoli gate diagram. Image from [1]</figcaption>\n",
    "</figure> "
   ]
  },
  {
   "cell_type": "markdown",
   "metadata": {},
   "source": [
    "The Toffoli gate is similar to the _CNOT_ gate although it has two contol bits. The bottom bit flips only when both top bits are in state $|1\\rangle$ [1]"
   ]
  },
  {
   "cell_type": "markdown",
   "metadata": {},
   "source": [
    "One reason why the Toffoli gate is interesting is that it is <a href=\"https://learn.circuitverse.org/docs/universal_gates.html\">universal</a>. This means that we can use copies of the gate to make any logical gate. \n",
    "In particular, you can make a reversible computer using only Toffoli gates. Such a computer\n",
    "would, in theory, neither use any energy nor give off any heat [1]."
   ]
  },
  {
   "cell_type": "markdown",
   "metadata": {},
   "source": [
    "The matrix associated with this gate is [1]"
   ]
  },
  {
   "cell_type": "markdown",
   "metadata": {},
   "source": [
    "$$CCNOT = \\begin{bmatrix} 1 && 0 && 0 && 0 && 0 && 0 && 0 && 0 \\\\ 0 && 1 && 0 && 0 && 0 && 0 && 0 && 0 \\\\ 0 && 0 && 1 && 0 && 0 && 0 && 0 && 0 \\\\ 0 && 0 && 0 && 1 && 0 && 0 && 0 && 0 \\\\\n",
    "0 && 0 && 0 && 0 && 1 && 0 && 0 && 0 \\\\\n",
    "0 && 0 && 0 && 0 && 0 && 1 && 0 && 0 \\\\\n",
    "0 && 0 && 0 && 0 && 0 && 0 && 0 && 1 \\\\\n",
    "0 && 0 && 0 && 0 && 0 && 0 && 1 && 0 \\end{bmatrix}$$"
   ]
  },
  {
   "cell_type": "markdown",
   "metadata": {},
   "source": [
    "## <a name=\"refs\"></a> References"
   ]
  },
  {
   "cell_type": "markdown",
   "metadata": {},
   "source": [
    "1. Noson S. Yanofsky and Mirco A. Mannucci, ```Quantum Computing for Computer Scientists```, Cambridge University Press.\n",
    "2. <a href=\"https://en.wikipedia.org/wiki/Toffoli_gate\">Toffoli gate</a>"
   ]
  }
 ],
 "metadata": {
  "kernelspec": {
   "display_name": "Python 3",
   "language": "python",
   "name": "python3"
  },
  "language_info": {
   "codemirror_mode": {
    "name": "ipython",
    "version": 3
   },
   "file_extension": ".py",
   "mimetype": "text/x-python",
   "name": "python",
   "nbconvert_exporter": "python",
   "pygments_lexer": "ipython3",
   "version": "3.8.5"
  }
 },
 "nbformat": 4,
 "nbformat_minor": 4
}

{
 "cells": [
  {
   "cell_type": "markdown",
   "metadata": {},
   "source": [
    "# Quantum Gates"
   ]
  },
  {
   "cell_type": "markdown",
   "metadata": {},
   "source": [
    "## Contents"
   ]
  },
  {
   "cell_type": "markdown",
   "metadata": {},
   "source": [
    "* [Overview](#overview) \n",
    "* [Quantum gates](#ekf)\n",
    "    * [The Hadamard gate](#sub_sect_2)\n",
    "    * [Pauli matrices](#sub_sect_4)\n",
    "    * [Phase shift gates](#sub_sect_5)\n",
    "    * [Rotation along $x$, $y$ and $z$ axis](#sub_sect_6)\n",
    "    * [Other rotations](#sub_sect_7)\n",
    "* [References](#refs)"
   ]
  },
  {
   "cell_type": "markdown",
   "metadata": {},
   "source": [
    "## <a name=\"overview\"></a> Overview"
   ]
  },
  {
   "cell_type": "markdown",
   "metadata": {},
   "source": [
    "In this notebook we review <a href=\"https://en.wikipedia.org/wiki/Quantum_logic_gate\">quantum logic gates</a>"
   ]
  },
  {
   "cell_type": "markdown",
   "metadata": {},
   "source": [
    "## <a name=\"ekf\"></a> Quantum gates"
   ]
  },
  {
   "cell_type": "markdown",
   "metadata": {},
   "source": [
    "Just like classical gates act on bit, quantum gates act on qubits. We have the following definition."
   ]
  },
  {
   "cell_type": "markdown",
   "metadata": {},
   "source": [
    "---\n",
    "**Definition 5.4.1 page 158 from [1]**"
   ]
  },
  {
   "cell_type": "markdown",
   "metadata": {},
   "source": [
    "_A quantum gate is simply an operator that acts on qubits. Such\n",
    "operators will be represented by unitary matrices._\n",
    "\n",
    "---"
   ]
  },
  {
   "cell_type": "markdown",
   "metadata": {},
   "source": [
    "Examples for quantum gates are, see [1] and [2],"
   ]
  },
  {
   "cell_type": "markdown",
   "metadata": {},
   "source": [
    "### <a name=\"sub_sect_2\"></a> The Hadamard gate"
   ]
  },
  {
   "cell_type": "markdown",
   "metadata": {},
   "source": [
    "The <a href=\"https://www.quantum-inspire.com/kbase/hadamard/\">Hadamard gate</a> is a single qubit gate that maps the $|0\\rangle$ basis state to  $\\frac{|0\\rangle + |1\\rangle}{\\sqrt{2}}$ and the $|1\\rangle$ basis state to  $\\frac{|0\\rangle - |1\\rangle}{\\sqrt{2}}$. The gate is defined as [1] "
   ]
  },
  {
   "cell_type": "markdown",
   "metadata": {},
   "source": [
    "$$\\mathbf{H} = \\frac{1}{\\sqrt{2}}\\begin{bmatrix}1 && 1 \\\\ 1 && -1\\end{bmatrix}$$"
   ]
  },
  {
   "cell_type": "markdown",
   "metadata": {},
   "source": [
    "The gate can be expressed as a 90 degrees rotation around the $y$-axis, followed by a 180 degrees rotation around the $x$-axis. Hence, "
   ]
  },
  {
   "cell_type": "markdown",
   "metadata": {},
   "source": [
    "$$H=XY^{1/2}$$"
   ]
  },
  {
   "cell_type": "markdown",
   "metadata": {},
   "source": [
    "Useful $xy$-decompositions are given by"
   ]
  },
  {
   "cell_type": "markdown",
   "metadata": {},
   "source": [
    "$$H=XY^{1/2}$$"
   ]
  },
  {
   "cell_type": "markdown",
   "metadata": {},
   "source": [
    "$$H=Y^{-1/2}X$$"
   ]
  },
  {
   "cell_type": "markdown",
   "metadata": {},
   "source": [
    "Useful $zy$-decompositions are given by"
   ]
  },
  {
   "cell_type": "markdown",
   "metadata": {},
   "source": [
    "$$H=ZY^{-1/2}$$"
   ]
  },
  {
   "cell_type": "markdown",
   "metadata": {},
   "source": [
    "$$H=Y^{1/2}Z$$"
   ]
  },
  {
   "cell_type": "markdown",
   "metadata": {},
   "source": [
    "The Hadamard matrix is the inverse of itself i.e. $H^{-1} = H$. This means that we can go from the superpositioned state $\\frac{|0\\rangle + |1\\rangle}{\\sqrt{2}}$ to $|0\\rangle$ or from $\\frac{|0\\rangle - |1\\rangle}{\\sqrt{2}}$ to $|1\\rangle$ by applying its inverse. We use this property in Deutsch's algorithm."
   ]
  },
  {
   "cell_type": "markdown",
   "metadata": {},
   "source": [
    "### <a name=\"sub_sect_4\"></a> Pauli matrices"
   ]
  },
  {
   "cell_type": "markdown",
   "metadata": {},
   "source": [
    "The <a href=\"https://en.wikipedia.org/wiki/Pauli_matrices\">Pauli matrices</a> are [1]"
   ]
  },
  {
   "cell_type": "markdown",
   "metadata": {},
   "source": [
    "$$\\mathbf{X} = \\begin{bmatrix}0 && 1 \\\\ 1 && 0\\end{bmatrix}, \\mathbf{Y} = \\begin{bmatrix}0 && -i \\\\ i && 0\\end{bmatrix},~~ \\mathbf{Z} = \\begin{bmatrix}1 && 0 \\\\ 0 && -1\\end{bmatrix}$$"
   ]
  },
  {
   "cell_type": "markdown",
   "metadata": {},
   "source": [
    "These matrices are of course unitary matrices. Let's see the action of these matrices on a qubit."
   ]
  },
  {
   "cell_type": "markdown",
   "metadata": {},
   "source": [
    "The Pauli matrices intoroduced above represent ways of flipping the \n",
    "<a href=\"https://en.wikipedia.org/wiki/Bloch_sphere\"> Boch sphere</a> 180 degress about the $x, y$ and $z$ axis respectively [1]."
   ]
  },
  {
   "cell_type": "markdown",
   "metadata": {},
   "source": [
    "### <a name=\"sub_sect_5\"></a> Phase shift gates"
   ]
  },
  {
   "cell_type": "markdown",
   "metadata": {},
   "source": [
    "When we want to turn the Bloch sphere $\\theta$ degrees along a particular direction we can use phase shift gates [1] "
   ]
  },
  {
   "cell_type": "markdown",
   "metadata": {},
   "source": [
    "$$R(\\theta) = \\begin{bmatrix}1 && 0 \\\\ 0 && e^{\\theta} \\end{bmatrix}$$"
   ]
  },
  {
   "cell_type": "markdown",
   "metadata": {},
   "source": [
    "What sort of rotation this gates performs on an arbitrary quibit? This gate does not change the latitude only the longitude. Hence,only the phase will change [1].  "
   ]
  },
  {
   "cell_type": "markdown",
   "metadata": {},
   "source": [
    "### <a name=\"sub_sect_6\"></a>  Rotation along $x$, $y$ and $z$ axis"
   ]
  },
  {
   "cell_type": "markdown",
   "metadata": {},
   "source": [
    "Further, we want to be able to rotate a given number of degrees around the $x$, $y$ and $z$ axis. We can do so using the following rotation matrices [1]"
   ]
  },
  {
   "cell_type": "markdown",
   "metadata": {},
   "source": [
    "$$R_x(\\theta) = cos \\frac{\\theta}{2} \\mathbf{I} - i sin \\frac{\\theta}{2} \\mathbf{X}$$"
   ]
  },
  {
   "cell_type": "markdown",
   "metadata": {},
   "source": [
    "$$R_y(\\theta) = cos \\frac{\\theta}{2} \\mathbf{I} - i sin \\frac{\\theta}{2} \\mathbf{Y}$$"
   ]
  },
  {
   "cell_type": "markdown",
   "metadata": {},
   "source": [
    "$$R_z(\\theta) = cos \\frac{\\theta}{2} \\mathbf{I} - i sin \\frac{\\theta}{2} \\mathbf{Z}$$"
   ]
  },
  {
   "cell_type": "markdown",
   "metadata": {},
   "source": [
    "### <a name=\"sub_sect_7\"></a> Other rotations"
   ]
  },
  {
   "cell_type": "markdown",
   "metadata": {},
   "source": [
    "There are of course rotations around other axis. Consider the vector "
   ]
  },
  {
   "cell_type": "markdown",
   "metadata": {},
   "source": [
    "$$D = (d_x, d_y, d_z), ~~  ||D|| = 1$$"
   ]
  },
  {
   "cell_type": "markdown",
   "metadata": {},
   "source": [
    "We can use such a vector to determine an axis on the Bloch sphere around which we can rotate [1]. The rotation matrix is given by [1]"
   ]
  },
  {
   "cell_type": "markdown",
   "metadata": {},
   "source": [
    "$$R_y(\\theta) = cos \\frac{\\theta}{2} \\mathbf{I} - i sin \\frac{\\theta}{2} \\left(d_x \\mathbf{X} + d_y\\mathbf{Y}+d_z\\mathbf{Z}\\right) $$"
   ]
  },
  {
   "cell_type": "markdown",
   "metadata": {},
   "source": [
    "## <a name=\"refs\"></a> References"
   ]
  },
  {
   "cell_type": "markdown",
   "metadata": {},
   "source": [
    "1. Noson S. Yanofsky and Mirco A. Mannucci, ```Quantum Computing for Computer Scientists```, Cambridge University Press.\n",
    "2. <a href=\"https://en.wikipedia.org/wiki/Quantum_logic_gate\">Quantum logic gates</a>\n",
    "3. <a href=\"https://en.wikipedia.org/wiki/Pauli_matrices\">Pauli matrices</a>\n",
    "4. <a href=\"https://en.wikipedia.org/wiki/Bloch_sphere\"> Boch sphere</a>"
   ]
  }
 ],
 "metadata": {
  "kernelspec": {
   "display_name": "Python 3",
   "language": "python",
   "name": "python3"
  },
  "language_info": {
   "codemirror_mode": {
    "name": "ipython",
    "version": 3
   },
   "file_extension": ".py",
   "mimetype": "text/x-python",
   "name": "python",
   "nbconvert_exporter": "python",
   "pygments_lexer": "ipython3",
   "version": "3.8.5"
  }
 },
 "nbformat": 4,
 "nbformat_minor": 4
}

{
 "cells": [
  {
   "cell_type": "markdown",
   "metadata": {},
   "source": [
    "# controlled-NOT Gate"
   ]
  },
  {
   "cell_type": "markdown",
   "metadata": {},
   "source": [
    "* [Overview](#overview) \n",
    "* [_CNOT_ gate](#ekf)\n",
    "* [References](#refs)"
   ]
  },
  {
   "cell_type": "markdown",
   "metadata": {},
   "source": [
    "## <a name=\"overview\"></a> Overview"
   ]
  },
  {
   "cell_type": "markdown",
   "metadata": {},
   "source": [
    "In this section we introduce the controlled-NOT or _CNOT_ gate for short. The _CNOT_ gate is a quantum logic gate that is an essential component in the construction of a gate-based quantum computer. It can be used to entangle and disentangle EPR states [2]. Any quantum circuit can be simulated to an arbitrary degree of accuracy using a combination of CNOT gates and single qubit rotations[2]."
   ]
  },
  {
   "cell_type": "markdown",
   "metadata": {},
   "source": [
    "## <a name=\"ekf\"></a> _CNOT_ gate"
   ]
  },
  {
   "cell_type": "markdown",
   "metadata": {},
   "source": [
    "The controlled-NOT or _CNOT_ gate has two inputs and two outputs. The schematics of the gate is shown in the figure below"
   ]
  },
  {
   "cell_type": "markdown",
   "metadata": {},
   "source": [
    " <figure>\n",
    "  <img src=\"../imgs/cnot_gate.png\" alt=\"Trulli\" style=\"width:30%\">\n",
    "  <figcaption>Figure 1: CNOT gate diagram. Image from [1]</figcaption>\n",
    "</figure> "
   ]
  },
  {
   "cell_type": "markdown",
   "metadata": {},
   "source": [
    "The $|x\\rangle$ input is the control bit i.e. it controls what the output will be as follows [1]"
   ]
  },
  {
   "cell_type": "markdown",
   "metadata": {},
   "source": [
    "- if $|x\\rangle = |0\\rangle$ then the $|y\\rangle$ remains unchanged\n",
    "- if $|x\\rangle = |1\\rangle$ then the $|y\\rangle$ changes to the opposite bit."
   ]
  },
  {
   "cell_type": "markdown",
   "metadata": {},
   "source": [
    "Thus, the application of the _CNOT_ gate will map $|x,y \\rangle$  to $|x, x \\oplus y\\rangle$ where $\\oplus$ is the\n",
    "<a href=\"https://en.wikipedia.org/wiki/Exclusive_or\">XOR</a> operaion. The matrix associated with this gate is [1]"
   ]
  },
  {
   "cell_type": "markdown",
   "metadata": {},
   "source": [
    "$$CNOT = \\begin{bmatrix} 1 && 0 && 0 && 0 \\\\ 0 && 1 && 0 && 0 \\\\ 0 && 0 && 0 && 1 \\\\ 0 && 0 && 1 && 0\\end{bmatrix}$$"
   ]
  },
  {
   "cell_type": "markdown",
   "metadata": {},
   "source": [
    "The _CNOT_ gate can be reversed by itself [1]. The circuit to do so is shown in the figure below  "
   ]
  },
  {
   "cell_type": "markdown",
   "metadata": {},
   "source": [
    " <figure>\n",
    "  <img src=\"../imgs/cnot_gate_reversible.png\" alt=\"Trulli\" style=\"width:50%\">\n",
    "  <figcaption>Figure 2: CNOT gate reverse diagram. Image from [1]</figcaption>\n",
    "</figure> "
   ]
  },
  {
   "cell_type": "markdown",
   "metadata": {},
   "source": [
    "This is due to the associativity of the $\\oplus$ operator. The sequence of operations is given below"
   ]
  },
  {
   "cell_type": "markdown",
   "metadata": {},
   "source": [
    "$$|x,y \\rangle \\rightarrow |x, x \\oplus y \\rangle \\rightarrow |x, x \\oplus (x \\oplus y) \\rangle$$"
   ]
  },
  {
   "cell_type": "markdown",
   "metadata": {},
   "source": [
    "However, we can write $|x, x \\oplus (x \\oplus y) \\rangle$ as "
   ]
  },
  {
   "cell_type": "markdown",
   "metadata": {},
   "source": [
    "$$|x, (x \\oplus x) \\oplus y \\rangle$$ "
   ]
  },
  {
   "cell_type": "markdown",
   "metadata": {},
   "source": [
    "but $(x \\oplus y) = 0$ so the expression above reduces to "
   ]
  },
  {
   "cell_type": "markdown",
   "metadata": {},
   "source": [
    "$$|x,  y \\rangle$$ "
   ]
  },
  {
   "cell_type": "markdown",
   "metadata": {},
   "source": [
    "Another way to show this, is to multiply the matrix representation above with itself and arriving at the identity matrix as shown below"
   ]
  },
  {
   "cell_type": "markdown",
   "metadata": {},
   "source": [
    "## <a name=\"refs\"></a> References"
   ]
  },
  {
   "cell_type": "markdown",
   "metadata": {},
   "source": [
    "1. Noson S. Yanofsky and Mirco A. Mannucci, ```Quantum Computing for Computer Scientists```, Cambridge University Press.\n",
    "2. <a href=\"https://en.wikipedia.org/wiki/Controlled_NOT_gate\">Controlled NOT gate</a>"
   ]
  }
 ],
 "metadata": {
  "kernelspec": {
   "display_name": "Python 3",
   "language": "python",
   "name": "python3"
  },
  "language_info": {
   "codemirror_mode": {
    "name": "ipython",
    "version": 3
   },
   "file_extension": ".py",
   "mimetype": "text/x-python",
   "name": "python",
   "nbconvert_exporter": "python",
   "pygments_lexer": "ipython3",
   "version": "3.8.5"
  }
 },
 "nbformat": 4,
 "nbformat_minor": 4
}

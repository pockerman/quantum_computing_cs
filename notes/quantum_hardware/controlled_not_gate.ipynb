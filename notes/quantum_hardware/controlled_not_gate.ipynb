{
 "cells": [
  {
   "cell_type": "markdown",
   "metadata": {},
   "source": [
    "# controlled-NOT Gate"
   ]
  },
  {
   "cell_type": "markdown",
   "metadata": {},
   "source": [
    "The controlled-NOT or _CNOT_ gate has two inputs and two outputs. The schematics of the gate is shown in the figure below"
   ]
  },
  {
   "cell_type": "markdown",
   "metadata": {},
   "source": [
    " <figure>\n",
    "  <img src=\"../imgs/cnot_gate.png\" alt=\"Trulli\" style=\"width:30%\">\n",
    "  <figcaption>Figure 1: NOT gate diagram. Image from [1]</figcaption>\n",
    "</figure> "
   ]
  },
  {
   "cell_type": "markdown",
   "metadata": {},
   "source": [
    "The $|x\\rangle$ input is the control bit i.e. it controls what the output will be as follows [1]"
   ]
  },
  {
   "cell_type": "markdown",
   "metadata": {},
   "source": [
    "- if $|x\\rangle = |0\\rangle$ then the $|y\\rangle$ remains unchanged\n",
    "- if $|x\\rangle = |1\\rangle$ then the $|y\\rangle$ changes to the opposite bit."
   ]
  },
  {
   "cell_type": "markdown",
   "metadata": {},
   "source": [
    "Thus, the application of the _CNOT_ gate will map $|x,y \\rangle$  to $|x, x \\oplus y\\rangle$ where $\\oplus$ is the\n",
    "<a href=\"https://en.wikipedia.org/wiki/Exclusive_or\">XOR</a> operaion."
   ]
  },
  {
   "cell_type": "markdown",
   "metadata": {},
   "source": [
    "## <a name=\"refs\"></a> References"
   ]
  },
  {
   "cell_type": "markdown",
   "metadata": {},
   "source": [
    "1. Noson S. Yanofsky and Mirco A. Mannucci, ```Quantum Computing for Computer Scientists```, Cambridge University Press"
   ]
  }
 ],
 "metadata": {
  "kernelspec": {
   "display_name": "Python 3",
   "language": "python",
   "name": "python3"
  },
  "language_info": {
   "codemirror_mode": {
    "name": "ipython",
    "version": 3
   },
   "file_extension": ".py",
   "mimetype": "text/x-python",
   "name": "python",
   "nbconvert_exporter": "python",
   "pygments_lexer": "ipython3",
   "version": "3.8.5"
  }
 },
 "nbformat": 4,
 "nbformat_minor": 4
}

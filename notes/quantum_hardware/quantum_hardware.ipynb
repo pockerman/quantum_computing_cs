{
 "cells": [
  {
   "cell_type": "markdown",
   "metadata": {},
   "source": [
    "# Item: Quantum Hardware"
   ]
  },
  {
   "cell_type": "markdown",
   "metadata": {},
   "source": [
    "In this chapter I look at quantum hardware; <a href=\"https://en.wikipedia.org/wiki/Qubit\">qubits</a>, <a href=\"https://en.wikipedia.org/wiki/Quantum_logic_gate\">quantum gates</a> and the like. Before going into the details we have a look at some common quantum computing architectures.  The exposition here is mainly from [1]."
   ]
  },
  {
   "cell_type": "markdown",
   "metadata": {},
   "source": [
    "**Nuclear Magnetic Resonance**"
   ]
  },
  {
   "cell_type": "markdown",
   "metadata": {},
   "source": [
    "Some of the early applications of quantum computing used spinning qubits with nuclear magnetic resonance devices [1]. For example factorization of the number 15  with Shor's algorithm was done in liquid-state  nuclear magnetic resonance device [1]. Although a number or researchers use nuclear magnetic resonance devices, this architecture is not likely to scale to the number of qubits required for fault-tolerant computations [1]. "
   ]
  },
  {
   "cell_type": "markdown",
   "metadata": {},
   "source": [
    "**Neural Atom**"
   ]
  },
  {
   "cell_type": "markdown",
   "metadata": {},
   "source": [
    "## References"
   ]
  },
  {
   "cell_type": "markdown",
   "metadata": {},
   "source": [
    "1. Jack D. Hidary, ```Quantum Computing: An Applied Approach```, Springer."
   ]
  }
 ],
 "metadata": {
  "kernelspec": {
   "display_name": "Python 3",
   "language": "python",
   "name": "python3"
  },
  "language_info": {
   "codemirror_mode": {
    "name": "ipython",
    "version": 3
   },
   "file_extension": ".py",
   "mimetype": "text/x-python",
   "name": "python",
   "nbconvert_exporter": "python",
   "pygments_lexer": "ipython3",
   "version": "3.8.5"
  }
 },
 "nbformat": 4,
 "nbformat_minor": 4
}

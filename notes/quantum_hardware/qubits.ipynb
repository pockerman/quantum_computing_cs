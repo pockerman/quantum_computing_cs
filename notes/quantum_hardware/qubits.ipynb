{
 "cells": [
  {
   "cell_type": "markdown",
   "metadata": {},
   "source": [
    "# Qubits"
   ]
  },
  {
   "cell_type": "markdown",
   "metadata": {},
   "source": [
    "## Contents"
   ]
  },
  {
   "cell_type": "markdown",
   "metadata": {},
   "source": [
    "* [Overview](#overview) \n",
    "* [Qubits](#ekf)\n",
    "    * [Systems with more than one qubit](#sub_sect_1)\n",
    "* [References](#refs)"
   ]
  },
  {
   "cell_type": "markdown",
   "metadata": {},
   "source": [
    "## <a name=\"overview\"></a> Overview"
   ]
  },
  {
   "cell_type": "markdown",
   "metadata": {},
   "source": [
    "In quantum computing, a qubit is the elementary unit of quantum information; the quantum version of the classical binary bit. A qubit is a two-state quantum-mechanical system, one of the simplest quantum systems displaying the peculiarity of quantum mechanics. Examples include: the spin of the electron in which the two states can be taken as spin up and spin down; or the polarization of a single photon in which the two states can be taken to be the vertical polarization and the horizontal polarization. In a classical system, a bit would have to be in one state or the other. However, quantum mechanics allows the qubit to be in a coherent superposition of both states simultaneously, a property which is fundamental to quantum mechanics and quantum computing [2]. "
   ]
  },
  {
   "cell_type": "markdown",
   "metadata": {},
   "source": [
    "## <a name=\"ekf\"></a> Qubits"
   ]
  },
  {
   "cell_type": "markdown",
   "metadata": {},
   "source": [
    "The definition of a bit could be as follows [1]"
   ]
  },
  {
   "cell_type": "markdown",
   "metadata": {},
   "source": [
    "---\n",
    "**Definition**"
   ]
  },
  {
   "cell_type": "markdown",
   "metadata": {},
   "source": [
    "_A bit is a unit of information describing a two-dimensional classical system_\n",
    "\n",
    "**Remark: This Definition 5.1.1 page 138 from [1].**\n",
    "\n",
    "---"
   ]
  },
  {
   "cell_type": "markdown",
   "metadata": {},
   "source": [
    "We can use matrices to reprsent the two states i.e. 0 or 1 of a classical bit as follows [1]"
   ]
  },
  {
   "cell_type": "markdown",
   "metadata": {},
   "source": [
    "$$|0\\rangle = \\begin{bmatrix}1 \\\\ 0 \\end{bmatrix}$$"
   ]
  },
  {
   "cell_type": "markdown",
   "metadata": {},
   "source": [
    "$$|1\\rangle = \\begin{bmatrix}0 \\\\ 1 \\end{bmatrix}$$"
   ]
  },
  {
   "cell_type": "markdown",
   "metadata": {},
   "source": [
    "In classical computing a bit can either be in state $|0\\rangle$ or state $|1\\rangle$ [1]. In quantum computing, a system can be on both states simultaneously. "
   ]
  },
  {
   "cell_type": "markdown",
   "metadata": {},
   "source": [
    "---\n",
    "**Definition**"
   ]
  },
  {
   "cell_type": "markdown",
   "metadata": {},
   "source": [
    "_A qubit is a unit of information describing a two-dimensional quantum system_\n",
    "\n",
    "**Remark: This Definition 5.1.2 page 139 from [1].**\n",
    "\n",
    "---"
   ]
  },
  {
   "cell_type": "markdown",
   "metadata": {},
   "source": [
    "A qubit is represented by a $2\\times 1$ complex matrix. The sum of the squares of the absolute values of the matrix should sum up to one. That is, [1],"
   ]
  },
  {
   "cell_type": "markdown",
   "metadata": {},
   "source": [
    "$$|q\\rangle = \\begin{bmatrix}c_1 \\\\ c_2 \\end{bmatrix}$$"
   ]
  },
  {
   "cell_type": "markdown",
   "metadata": {},
   "source": [
    "with "
   ]
  },
  {
   "cell_type": "markdown",
   "metadata": {},
   "source": [
    "$$|c_1|^2 + |c_2|^2 = 1$$"
   ]
  },
  {
   "cell_type": "markdown",
   "metadata": {},
   "source": [
    "Each $c_i$ represents the probability that after measuring the qubit it will be found at state $i, i=0, 1$. This implies that whenever we attempt to measure a qubit this is transformed into a classical bit. In other words we have that after measuring $|q\\rangle$ then "
   ]
  },
  {
   "cell_type": "markdown",
   "metadata": {},
   "source": [
    "$$|q\\rangle \\xrightarrow[]{|c_1|^2} [1, 0]$$"
   ]
  },
  {
   "cell_type": "markdown",
   "metadata": {},
   "source": [
    "$$|q\\rangle \\xrightarrow[]{|c_2|^2} [0, 1]$$"
   ]
  },
  {
   "cell_type": "markdown",
   "metadata": {},
   "source": [
    "Any nonzero vector of $\\mathbb{C}^2$ can be converted into a qubit 1]. This can be done by normalizing the vector so that its coefficients represent probabilities.  "
   ]
  },
  {
   "cell_type": "markdown",
   "metadata": {},
   "source": [
    "---\n",
    "**Example 5.1.1 page 140 from [1]**"
   ]
  },
  {
   "cell_type": "markdown",
   "metadata": {},
   "source": [
    "The vector "
   ]
  },
  {
   "cell_type": "markdown",
   "metadata": {},
   "source": [
    "$$\\mathbf{q} = (5+3i, 6i)$$"
   ]
  },
  {
   "cell_type": "markdown",
   "metadata": {},
   "source": [
    "Has norm"
   ]
  },
  {
   "cell_type": "markdown",
   "metadata": {},
   "source": [
    "$$||\\mathbf{q}|| = \\sqrt{\\langle \\mathbf{q}^* \\mathbf{q} \\rangle } = \\sqrt{70}$$"
   ]
  },
  {
   "cell_type": "markdown",
   "metadata": {},
   "source": [
    "So the qubit state will described by the vector"
   ]
  },
  {
   "cell_type": "markdown",
   "metadata": {},
   "source": [
    "$$\\mathbf{w} = ((5+3i)/\\sqrt{70}, 6i/\\sqrt{70})$$"
   ]
  },
  {
   "cell_type": "markdown",
   "metadata": {},
   "source": [
    "---"
   ]
  },
  {
   "cell_type": "markdown",
   "metadata": {},
   "source": [
    "There exist various ways to implement  a qubit for example [1],"
   ]
  },
  {
   "cell_type": "markdown",
   "metadata": {},
   "source": [
    "- A photon may be in one of two polarized states\n",
    "- A particle may have one of two spin directions\n",
    "- An electron may be in one of two different orbits around the nucleous of an atom"
   ]
  },
  {
   "cell_type": "markdown",
   "metadata": {},
   "source": [
    "### <a name=\"sub_sect_1\"></a> Systems with more than one qubit"
   ]
  },
  {
   "cell_type": "markdown",
   "metadata": {},
   "source": [
    "Systems with just one qubit are not overly exciting. Let's consider the classical <a href=\"https://en.wikipedia.org/wiki/Byte\">byte</a> i.e.  eight bits"
   ]
  },
  {
   "cell_type": "markdown",
   "metadata": {},
   "source": [
    "$$01110010$$"
   ]
  },
  {
   "cell_type": "markdown",
   "metadata": {},
   "source": [
    "We can use tensor product to describe this system, see [1],  as"
   ]
  },
  {
   "cell_type": "markdown",
   "metadata": {},
   "source": [
    "$$|0\\rangle \\otimes |1 \\rangle \\otimes |1 \\rangle \\otimes |1 \\rangle \\otimes |0 \\rangle\\otimes |0 \\rangle \\otimes |1 \\rangle \\otimes |0 \\rangle $$"
   ]
  },
  {
   "cell_type": "markdown",
   "metadata": {},
   "source": [
    "The qubit above is an element of $\\left(\\mathbb{C}^2\\right)^{\\otimes 8}$ [1]. This is a complex vector space of dimension $2^8$ [1]. Because there is essentially only one complex vector space of this dimension, this vector space is <a href=\"https://en.wikipedia.org/wiki/Isomorphism\">isomorphic</a> to $\\mathbb{C}^{256}$"
   ]
  },
  {
   "cell_type": "markdown",
   "metadata": {},
   "source": [
    "---\n",
    "**qubyte**"
   ]
  },
  {
   "cell_type": "markdown",
   "metadata": {},
   "source": [
    "Eight qubits together are called a qubyte [1].\n",
    "\n",
    "---"
   ]
  },
  {
   "cell_type": "markdown",
   "metadata": {},
   "source": [
    "We can also descrive the byte using a 256 row vector as follows. All the vector entries are zero except the entry that corresponds to the entry of the byte. In order to clarrify this let's consider the simpler example of a qubit in $\\mathbb{C}^8$ for example the quibit $110$. We can write this as the vector"
   ]
  },
  {
   "cell_type": "markdown",
   "metadata": {},
   "source": [
    "$$(0, 0, 0, 0, 1, 0, 0, 0)$$"
   ]
  },
  {
   "cell_type": "markdown",
   "metadata": {},
   "source": [
    "Its entry of the vector corresponds to a combination of the three bits; for example the first entry 0 corresponds to $000$ whilst the last zero to $111$ the entry with one corresponds to our $110$ combination."
   ]
  },
  {
   "cell_type": "markdown",
   "metadata": {},
   "source": [
    "In classical computing we have to indicate the state of each bit of a byte.\n",
    "This amounts to writing eight bits. In  quantum computing, the state of eight qubits is\n",
    "given by writing 256 complex numbers. As we stated in Section 3.4, this exponen-\n",
    "tial growth was one of the reasons researchers started giving thought to the notion\n",
    "of quantum computing. If one wanted to emulate a quantum computer with a 64-\n",
    "qubit register, one would need to store 2 64 = 18, 446, 744, 073, 709, 551, 616 com-\n",
    "plex numbers."
   ]
  },
  {
   "cell_type": "markdown",
   "metadata": {},
   "source": [
    "---\n",
    "**Remark**"
   ]
  },
  {
   "cell_type": "markdown",
   "metadata": {},
   "source": [
    "It is this exponential growth one of the reasons why we started looking at of quantum computing. If one wanted to emulate a quantum computer with a 64-qubit register, one would need to store $2^{64} = 18, 446, 744, 073, 709, 551, 616$ complex numbers [1].\n",
    "\n",
    "---"
   ]
  },
  {
   "cell_type": "markdown",
   "metadata": {},
   "source": [
    "## <a name=\"refs\"></a> References"
   ]
  },
  {
   "cell_type": "markdown",
   "metadata": {},
   "source": [
    "1. ```Quantum Computing for Computer Scientists```\n",
    "2. <a href=\"https://en.wikipedia.org/wiki/Qubit\">Qubit</a>"
   ]
  }
 ],
 "metadata": {
  "kernelspec": {
   "display_name": "Python 3",
   "language": "python",
   "name": "python3"
  },
  "language_info": {
   "codemirror_mode": {
    "name": "ipython",
    "version": 3
   },
   "file_extension": ".py",
   "mimetype": "text/x-python",
   "name": "python",
   "nbconvert_exporter": "python",
   "pygments_lexer": "ipython3",
   "version": "3.8.5"
  }
 },
 "nbformat": 4,
 "nbformat_minor": 4
}

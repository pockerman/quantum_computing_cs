{
 "cells": [
  {
   "cell_type": "markdown",
   "metadata": {},
   "source": [
    "# Complex Vector Spaces"
   ]
  },
  {
   "cell_type": "markdown",
   "metadata": {},
   "source": [
    "* [Overview](#overview) \n",
    "* [Complex vector spaces](#ekf)\n",
    "* [References](#refs)"
   ]
  },
  {
   "cell_type": "markdown",
   "metadata": {},
   "source": [
    "## <a name=\"overview\"></a> Overview"
   ]
  },
  {
   "cell_type": "markdown",
   "metadata": {},
   "source": [
    "In this notebook we summarize some basic elements of <a href=\"https://en.wikipedia.org/wiki/Vector_space\">complex vector spaces</a>. The presentation is not mean to be exhaustive but rather give some basic information that is needed in the context of quantum computing."
   ]
  },
  {
   "cell_type": "markdown",
   "metadata": {},
   "source": [
    "## <a name=\"ekf\"></a> Complex vector spaces"
   ]
  },
  {
   "cell_type": "markdown",
   "metadata": {},
   "source": [
    "We start our journey into the vector spaces of complex numbers by introducing the following definition"
   ]
  },
  {
   "cell_type": "markdown",
   "metadata": {},
   "source": [
    "---"
   ]
  },
  {
   "cell_type": "markdown",
   "metadata": {},
   "source": [
    "**Definition**"
   ]
  },
  {
   "cell_type": "markdown",
   "metadata": {},
   "source": [
    "A complex vector space is a nonempty set $\\mathbb{V}$ with the following three operations [1]"
   ]
  },
  {
   "cell_type": "markdown",
   "metadata": {},
   "source": [
    "- Addition $+ : \\mathbb{V} \\times \\mathbb{V} \\rightarrow \\mathbb{V}$\n",
    "- Negation $- : \\mathbb{V}  \\rightarrow \\mathbb{V}$\n",
    "- Scalar multiplication $ \\cdot : \\mathbb{C} \\times \\mathbb{V} \\rightarrow \\mathbb{V}$"
   ]
  },
  {
   "cell_type": "markdown",
   "metadata": {},
   "source": [
    "We also need the zero element $\\mathbf{0} \\in \\mathbb{V}$ in the set. The following properties should be then satisfied [1]"
   ]
  },
  {
   "cell_type": "markdown",
   "metadata": {},
   "source": [
    "- Addition should be commutative\n",
    "- Addition should be associative\n",
    "- $\\mathbf{v} + \\mathbf{0} = \\mathbf{0} + \\mathbf{v} = \\mathbf{v}, \\forall \\mathbf{v} \\in  \\mathbb{V}$\n",
    "- Every vector has an inverse\n",
    "- Scalar multiplication has a unit\n",
    "- Scalar multiplication respects complex multiplication\n",
    "- Scalar multiplication distributes over addition\n",
    "- Scalar multiplication distributes over complex addition"
   ]
  },
  {
   "cell_type": "markdown",
   "metadata": {},
   "source": [
    "---"
   ]
  },
  {
   "cell_type": "markdown",
   "metadata": {},
   "source": [
    "## <a name=\"refs\"></a>  References"
   ]
  },
  {
   "cell_type": "markdown",
   "metadata": {},
   "source": [
    "1. Noson S. Yanofsky and Mirco A. Mannucci, ```Quantum Computing for Computer Scientists```, Cambridge University Press."
   ]
  }
 ],
 "metadata": {
  "kernelspec": {
   "display_name": "Python 3",
   "language": "python",
   "name": "python3"
  },
  "language_info": {
   "codemirror_mode": {
    "name": "ipython",
    "version": 3
   },
   "file_extension": ".py",
   "mimetype": "text/x-python",
   "name": "python",
   "nbconvert_exporter": "python",
   "pygments_lexer": "ipython3",
   "version": "3.8.5"
  }
 },
 "nbformat": 4,
 "nbformat_minor": 4
}

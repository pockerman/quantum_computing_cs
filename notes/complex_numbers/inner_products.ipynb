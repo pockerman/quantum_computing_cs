{
 "cells": [
  {
   "cell_type": "markdown",
   "metadata": {},
   "source": [
    "# Inner Products "
   ]
  },
  {
   "cell_type": "markdown",
   "metadata": {},
   "source": [
    "* [Overview](#overview) \n",
    "* [Inner products](#ekf)\n",
    "* [References](#refs)"
   ]
  },
  {
   "cell_type": "markdown",
   "metadata": {},
   "source": [
    "## <a name=\"overview\"></a> Overview"
   ]
  },
  {
   "cell_type": "markdown",
   "metadata": {},
   "source": [
    "A state of a quantum system corresponds to a vector in some complex vector space. If we want to compare different states of the same system, we need to be able to measure one state against another in that vector space. Thus, we come to the idea of the inner, or dot or scalar product. In particular, we have the following definition [1]"
   ]
  },
  {
   "cell_type": "markdown",
   "metadata": {},
   "source": [
    "## <a name=\"ekf\"></a> Inner products"
   ]
  },
  {
   "cell_type": "markdown",
   "metadata": {},
   "source": [
    "---\n",
    "**Definition**"
   ]
  },
  {
   "cell_type": "markdown",
   "metadata": {},
   "source": [
    "The scalar or inner product on a complex vector space $\\mathbb{V}$ is a function denoted by  "
   ]
  },
  {
   "cell_type": "markdown",
   "metadata": {},
   "source": [
    "$$(\\cdot , \\cdot): \\mathbb{V} \\times \\mathbb{V} \\rightarrow \\mathbb{C}$$"
   ]
  },
  {
   "cell_type": "markdown",
   "metadata": {},
   "source": [
    "That satisfies the following properties"
   ]
  },
  {
   "cell_type": "markdown",
   "metadata": {},
   "source": [
    "- $(x , x ) \\geq 0 $, with  $(x , x ) = 0$ if and only if $x=0$\n",
    "- $(x_1 + x_2, x_3) = (x_1, x_3) + (x_2, x_3)$\n",
    "- $(x_1, x_2 + x_3) = (x_1, x_2) + (x_1, x_3)$\n",
    "- $(cx_1, x_2) = c(x_1, x_2)$\n",
    "- $(x_1, cx_2) = \\bar{c}(x_1, x_2)$\n",
    "- $(x_1, cx_2) = \\overline{(x_2, x_1)}$\n",
    "\n",
    "\n",
    "---"
   ]
  },
  {
   "cell_type": "markdown",
   "metadata": {},
   "source": [
    "Given the dot product function, over the vector space $\\mathbb{V}$, we can now define a norm or length function over $\\mathbb{V}$ as follows"
   ]
  },
  {
   "cell_type": "markdown",
   "metadata": {},
   "source": [
    "$$|x| = \\sqrt{(x,x)}$$"
   ]
  },
  {
   "cell_type": "markdown",
   "metadata": {},
   "source": [
    "The function $|\\cdot|$ simply maps elements of $\\mathbb{V}$ on the real numbers. It has the following properties (these follow from the  properties of the dot product function )"
   ]
  },
  {
   "cell_type": "markdown",
   "metadata": {},
   "source": [
    "- $|x| > 0 $ if $x > 0$ \n",
    "- $|x| = 0 $ if $x = 0$ \n",
    "- $|x + y | \\leq |x| + |y|$ \n",
    "- $|c \\cdot x| = |c| |x| $ "
   ]
  },
  {
   "cell_type": "markdown",
   "metadata": {},
   "source": [
    "Given the norm function on the vector space $\\mathbb{V}$, we can now the distance function over $\\mathbb{V}$ as "
   ]
  },
  {
   "cell_type": "markdown",
   "metadata": {},
   "source": [
    "$$d(,): \\mathbb{V} \\times  \\mathbb{V} \\rightarrow \\mathbb{R}, d(x_1, x_2) = |x_1 - x_2|$$"
   ]
  },
  {
   "cell_type": "markdown",
   "metadata": {},
   "source": [
    "The distance function has the following properties"
   ]
  },
  {
   "cell_type": "markdown",
   "metadata": {},
   "source": [
    "- $d(x, y) > 0 $ if $x \\neq y$ \n",
    "- $d(x, y) = 0 $ if $x = y$ \n",
    "- $d(x, y) \\leq d(x,y) + d(y,z)$ \n",
    "- $d(x, y) = d(y, x)$ "
   ]
  },
  {
   "cell_type": "markdown",
   "metadata": {},
   "source": [
    "Let's now give a bit more definitions that they will be used later on. In particular, we are interested in orthogonality of the items in $\\mathbb{V}$. Two vectors in $\\mathbb{V}$ are orthogonal to each other if their inner product is zero. Furthermore, we have the following definition\n"
   ]
  },
  {
   "cell_type": "markdown",
   "metadata": {},
   "source": [
    "---\n",
    "**Definition**"
   ]
  },
  {
   "cell_type": "markdown",
   "metadata": {},
   "source": [
    "_A basis  $B = \\{v_1, v_2, \\dots, v_n\\}$ is an orthogonal basis if the basis vectors are pairwise orthogonal to each other. We also have the notion of an orthonormal basis where the basis vectors have norm 1._\n",
    "\n",
    "\n",
    "---"
   ]
  },
  {
   "cell_type": "markdown",
   "metadata": {},
   "source": [
    "Every inner product on a finite-dimensional complex vector space\n",
    "is automatically complete; hence, every finite-dimensional complex vector space\n",
    "with an inner product is automatically a Hilbert space."
   ]
  },
  {
   "cell_type": "markdown",
   "metadata": {},
   "source": [
    "## <a name=\"refs\"></a>  References"
   ]
  },
  {
   "cell_type": "markdown",
   "metadata": {},
   "source": [
    "1. Noson S. Yanofsky and Mirco A. Mannucci, ```Quantum Computing for Computer Scientists```, Cambridge University Press."
   ]
  }
 ],
 "metadata": {
  "kernelspec": {
   "display_name": "Python 3",
   "language": "python",
   "name": "python3"
  },
  "language_info": {
   "codemirror_mode": {
    "name": "ipython",
    "version": 3
   },
   "file_extension": ".py",
   "mimetype": "text/x-python",
   "name": "python",
   "nbconvert_exporter": "python",
   "pygments_lexer": "ipython3",
   "version": "3.8.5"
  }
 },
 "nbformat": 4,
 "nbformat_minor": 4
}

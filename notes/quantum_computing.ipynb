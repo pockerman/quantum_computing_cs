{
 "cells": [
  {
   "cell_type": "markdown",
   "metadata": {},
   "source": [
    "# Item: Quantum Computing"
   ]
  },
  {
   "cell_type": "markdown",
   "metadata": {},
   "source": [
    "Quantum computing offers the potential to dramatically reduce both execution\n",
    "time and energy consumption when compared to traditional,\n",
    "digital computing [1]. These potential advantages and steady advances in nano-manufacturing,\n",
    "have led to a substantial commercial and national-security interest and investment in quantum computing technology\n",
    "in the 2010s [1]. "
   ]
  },
  {
   "cell_type": "markdown",
   "metadata": {},
   "source": [
    "Google has already announced that it has reached a major milestone known as quantum supremacy i.e. the demonstration that a quantum computer can perform a calculation that is intractable on a classical supercomputer [1]."
   ]
  },
  {
   "cell_type": "markdown",
   "metadata": {},
   "source": [
    "Quantum computing exploits quantum-mechanical effects in order to execute a computation more efficiently. In particular quantum computers use effects such as [1]"
   ]
  },
  {
   "cell_type": "markdown",
   "metadata": {},
   "source": [
    "- superposition \n",
    "- entanglement\n",
    "- quantum tunneling"
   ]
  },
  {
   "cell_type": "markdown",
   "metadata": {},
   "source": [
    "The first important feature of quantum computing is the\n",
    "concept of superposition. In a classical computer, data is\n",
    "represented as a (binary) 0 or 1 and can be flipped between\n",
    "these states [2]. The base unit of quantum computing is the quantum bit or qubit. Qubits rely on the quantum phenomenon of spin. The spin of a qubit is represented mathematically in the wavefunction [2]. A quantum mechanical wavefunction, $\\psi$ represents the state of a system and can be a linear combination of components:\n"
   ]
  },
  {
   "cell_type": "markdown",
   "metadata": {},
   "source": [
    "$$|\\psi \\rangle = c_1 |0\\rangle + c_2 |1\\rangle$$"
   ]
  },
  {
   "cell_type": "markdown",
   "metadata": {},
   "source": [
    "Because a qubit can store information in this superposition, information representation scales with $N$ qubits by $O(2^N )$ rather than $O(N)$ as with traditional computers [1]."
   ]
  },
  {
   "cell_type": "markdown",
   "metadata": {},
   "source": [
    "## References"
   ]
  },
  {
   "cell_type": "markdown",
   "metadata": {},
   "source": [
    "1. ABHIJITH J. et. al., ```Quantum Algorithm Implementations for Beginners```\n",
    "2. Owen Lockwood  and Mei Si, ```Reinforcement Learning with quantum variational circuits```."
   ]
  }
 ],
 "metadata": {
  "kernelspec": {
   "display_name": "Python 3",
   "language": "python",
   "name": "python3"
  },
  "language_info": {
   "codemirror_mode": {
    "name": "ipython",
    "version": 3
   },
   "file_extension": ".py",
   "mimetype": "text/x-python",
   "name": "python",
   "nbconvert_exporter": "python",
   "pygments_lexer": "ipython3",
   "version": "3.8.5"
  }
 },
 "nbformat": 4,
 "nbformat_minor": 4
}

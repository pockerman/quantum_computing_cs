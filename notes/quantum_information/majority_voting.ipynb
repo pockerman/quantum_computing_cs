{
 "cells": [
  {
   "cell_type": "markdown",
   "metadata": {},
   "source": [
    "# Majority Voting"
   ]
  },
  {
   "cell_type": "markdown",
   "metadata": {},
   "source": [
    "## Contents"
   ]
  },
  {
   "cell_type": "markdown",
   "metadata": {},
   "source": [
    "* [Overview](#overview) \n",
    "* [Majority voting](#ekf)\n",
    "* [References](#refs)"
   ]
  },
  {
   "cell_type": "markdown",
   "metadata": {},
   "source": [
    "## <a name=\"overview\"></a> Overview"
   ]
  },
  {
   "cell_type": "markdown",
   "metadata": {},
   "source": [
    "Encoding redundant information to the message we want to transmit is a key idea in order to protect the original message against the effects of noise [1]. The idea is that even if some of the information is corrupted by noise there will be still enough information in the encoded message to decode the original message [1]. Let's see how this works over the <a href=\"https://en.wikipedia.org/wiki/Binary_symmetric_channel\">binary symmetric channel</a>.  "
   ]
  },
  {
   "cell_type": "markdown",
   "metadata": {},
   "source": [
    "## <a name=\"overview\"></a> Majority voting"
   ]
  },
  {
   "cell_type": "markdown",
   "metadata": {},
   "source": [
    "Encoding redundant information to the message we want to transmit is a key idea in order to protect the original message against the effects of noise [1]. The idea is that even if some of the information is corrupted by noise there will be still enough information in the encoded message to decode the original message [1]. Let's see how this works over the binary symmetric channel.  "
   ]
  },
  {
   "cell_type": "markdown",
   "metadata": {},
   "source": [
    "---\n",
    "**Binary Symmetric Channel**"
   ]
  },
  {
   "cell_type": "markdown",
   "metadata": {},
   "source": [
    "A <a href=\"https://en.wikipedia.org/wiki/Binary_symmetric_channel\">binary symmetric channel</a> (or BSCp) is a common communications channel model used in coding theory and information theory. In this model, a transmitter wishes to send a bit (a zero or a one), and the receiver will receive a bit. The bit will be \"flipped\" with a crossover probability of $p$, and received correctly with probability $1-p$. This model can be applied to varied communication channels such as telephone lines or disk drive storage [2].\n",
    "\n"
   ]
  },
  {
   "cell_type": "markdown",
   "metadata": {},
   "source": [
    " <figure>\n",
    "  <img src=\"../imgs/The-binary-symmetric-channel-with-cross-over-probability-p.png\" alt=\"Trulli\" style=\"width:50%\">\n",
    "  <figcaption>Figure: The binary symmetric channel sees each bit of a message transmitted correctly with probability $1–p$ and incorrectly with probability $p$, due to noise across the transmission medium.</figcaption>\n",
    "</figure> "
   ]
  },
  {
   "cell_type": "markdown",
   "metadata": {},
   "source": [
    "---"
   ]
  },
  {
   "cell_type": "markdown",
   "metadata": {},
   "source": [
    "So let's assume that we want to transmit a bit either 0 or 1 in this case we transmit respectively [1]"
   ]
  },
  {
   "cell_type": "markdown",
   "metadata": {},
   "source": [
    "$$0 \\rightarrow 000, ~~ 1\\rightarrow 111$$"
   ]
  },
  {
   "cell_type": "markdown",
   "metadata": {},
   "source": [
    "On the receiver's end three bits are output. The receiver has to decide what the value of the original bit was. Let's assume the output is 001. Provided that  $p$ is not too high, it is very likely that the third bit was flipped by the channel and that 0 was the bit that was sent. This type of decoding is called **majority voting** [1]. In this case the the decoded output from the channel is whatever value i.e. 0 or 1, appears more times in the channel output [1]. "
   ]
  },
  {
   "cell_type": "markdown",
   "metadata": {},
   "source": [
    "This way of decoding the output message fails if two or more bits sent through the channel were flipped [1]. The probability that two or more bits are flipped is [1]"
   ]
  },
  {
   "cell_type": "markdown",
   "metadata": {},
   "source": [
    "$$3p^2(1-p) + p^3$$"
   ]
  },
  {
   "cell_type": "markdown",
   "metadata": {},
   "source": [
    "Hence, the probability of the error is "
   ]
  },
  {
   "cell_type": "markdown",
   "metadata": {},
   "source": [
    "$$p_e = 3p^2(1-p) + p^3$$"
   ]
  },
  {
   "cell_type": "markdown",
   "metadata": {},
   "source": [
    "Whenever $p < 1/2$ the transmission error $p_e$ will always be less than $p$. On the other hand, without the redundancy the transmission error with be  $p$."
   ]
  },
  {
   "cell_type": "markdown",
   "metadata": {},
   "source": [
    "This type of code is called **repetition code** as we encode the message to sent by repeating it a number of times [1]."
   ]
  },
  {
   "cell_type": "markdown",
   "metadata": {},
   "source": [
    "## <a name=\"refs\"></a> References"
   ]
  },
  {
   "cell_type": "markdown",
   "metadata": {},
   "source": [
    "1. Michael A. Nielsen, Isaac L. Chuang, ```Quantum Computation and Quantum Information```, Cambridge University Press\n",
    "2. <a href=\"https://en.wikipedia.org/wiki/Binary_symmetric_channel\">Binary symmetric channel</a>"
   ]
  }
 ],
 "metadata": {
  "kernelspec": {
   "display_name": "Python 3",
   "language": "python",
   "name": "python3"
  },
  "language_info": {
   "codemirror_mode": {
    "name": "ipython",
    "version": 3
   },
   "file_extension": ".py",
   "mimetype": "text/x-python",
   "name": "python",
   "nbconvert_exporter": "python",
   "pygments_lexer": "ipython3",
   "version": "3.8.5"
  }
 },
 "nbformat": 4,
 "nbformat_minor": 4
}
